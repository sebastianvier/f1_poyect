{
 "cells": [
  {
   "cell_type": "code",
   "execution_count": 1,
   "id": "1c50c4fd",
   "metadata": {},
   "outputs": [],
   "source": [
    "## import modules\n",
    "import urllib.request as urlr\n",
    "import numpy as np\n",
    "import pandas as pd\n",
    "from bs4 import BeautifulSoup\n",
    "from datetime import datetime\n",
    "import bs4_functions \n",
    "import urllib.parse"
   ]
  },
  {
   "cell_type": "code",
   "execution_count": 2,
   "id": "8b4636e0",
   "metadata": {},
   "outputs": [],
   "source": [
    "url = urlr.urlopen(\"https://www.racing-statistics.com/en/seasons\")\n",
    "soup = BeautifulSoup(url)\n",
    "rows = soup.find_all('table')[0].find_all('tr')[52:]\n",
    "season_links = [i for i in bs4_functions.season_link_gen(rows)] # Array of array with [season_name, season_url]"
   ]
  },
  {
   "cell_type": "markdown",
   "id": "103e309b",
   "metadata": {},
   "source": [
    "### Get constructor info"
   ]
  },
  {
   "cell_type": "code",
   "execution_count": 44,
   "id": "4b6a8e0d",
   "metadata": {},
   "outputs": [],
   "source": [
    "verification_list = []\n",
    "def season_constructo(url, verification_list):\n",
    "    \n",
    "    ## Get all the rows needed\n",
    "    url = urlr.urlopen(\"https://www.racing-statistics.com/en/seasons/2001\")\n",
    "    soup = BeautifulSoup(url)\n",
    "    rows = soup.find('table').find_all('tr')[1:] # 1: because the first row is usually just a header.\n",
    "\n",
    "    ## Get a url for each row\n",
    "    for row in rows[1:]:\n",
    "        anchor = row.find_all('a')[2]\n",
    "\n",
    "        name = anchor.text\n",
    "        url  = anchor['href']\n",
    "        \n",
    "        if url not in verification_list:\n",
    "            verification_list.append(url)\n",
    "            yield [name, url]\n",
    "        "
   ]
  },
  {
   "cell_type": "code",
   "execution_count": 45,
   "id": "8de32cf2",
   "metadata": {},
   "outputs": [
    {
     "ename": "TypeError",
     "evalue": "get_constructor_per_season() missing 1 required positional argument: 'verification_list'",
     "output_type": "error",
     "traceback": [
      "\u001b[0;31m---------------------------------------------------------------------------\u001b[0m",
      "\u001b[0;31mTypeError\u001b[0m                                 Traceback (most recent call last)",
      "\u001b[0;32m<ipython-input-45-5edcddba4fb7>\u001b[0m in \u001b[0;36m<module>\u001b[0;34m\u001b[0m\n\u001b[0;32m----> 1\u001b[0;31m \u001b[0mget_constructor_per_season\u001b[0m\u001b[0;34m(\u001b[0m\u001b[0;34m'https://www.racing-statistics.com/en/seasons/2001'\u001b[0m\u001b[0;34m)\u001b[0m\u001b[0;34m\u001b[0m\u001b[0;34m\u001b[0m\u001b[0m\n\u001b[0m",
      "\u001b[0;31mTypeError\u001b[0m: get_constructor_per_season() missing 1 required positional argument: 'verification_list'"
     ]
    }
   ],
   "source": [
    "url = 'https://www.racing-statistics.com/en/seasons/2001'\n",
    "get_constructor_per_season()"
   ]
  },
  {
   "cell_type": "code",
   "execution_count": null,
   "id": "9d0876b5",
   "metadata": {},
   "outputs": [],
   "source": [
    "def get_constructors_links():"
   ]
  },
  {
   "cell_type": "markdown",
   "id": "ebe1e84f",
   "metadata": {},
   "source": [
    "### Get races to build the connections latter"
   ]
  },
  {
   "cell_type": "code",
   "execution_count": 10,
   "id": "432facae",
   "metadata": {
    "scrolled": true
   },
   "outputs": [
    {
     "name": "stdout",
     "output_type": "stream",
     "text": [
      "https://www.racing-statistics.com/en/seasons/2001\n",
      "https://www.racing-statistics.com/en/seasons/2002\n",
      "https://www.racing-statistics.com/en/seasons/2003\n",
      "https://www.racing-statistics.com/en/seasons/2004\n",
      "https://www.racing-statistics.com/en/seasons/2005\n",
      "https://www.racing-statistics.com/en/seasons/2006\n",
      "https://www.racing-statistics.com/en/seasons/2007\n",
      "https://www.racing-statistics.com/en/seasons/2008\n",
      "https://www.racing-statistics.com/en/seasons/2009\n",
      "https://www.racing-statistics.com/en/seasons/2010\n",
      "https://www.racing-statistics.com/en/seasons/2011\n",
      "https://www.racing-statistics.com/en/seasons/2012\n",
      "https://www.racing-statistics.com/en/seasons/2013\n",
      "https://www.racing-statistics.com/en/seasons/2014\n",
      "https://www.racing-statistics.com/en/seasons/2015\n",
      "https://www.racing-statistics.com/en/seasons/2016\n",
      "https://www.racing-statistics.com/en/seasons/2017\n",
      "https://www.racing-statistics.com/en/seasons/2018\n",
      "https://www.racing-statistics.com/en/seasons/2019\n",
      "https://www.racing-statistics.com/en/seasons/2020\n",
      "https://www.racing-statistics.com/en/seasons/2021\n",
      "https://www.racing-statistics.com/en/seasons/2022\n"
     ]
    }
   ],
   "source": [
    "## table_number 1, cell position 2\n",
    "races_urls = []\n",
    "verification_list = []\n",
    "for season in season_links:\n",
    "    url = season[1]\n",
    "    print(url)\n",
    "    table_number = 1\n",
    "    cell_position = 2\n",
    "    for i in  bs4_functions.get_links_from_table(url, table_number, cell_position\n",
    "                                                 , verification_list=verification_list, year_flag=True,s_name=False):\n",
    "        races_urls.append(i)"
   ]
  },
  {
   "cell_type": "code",
   "execution_count": null,
   "id": "3ebaac41",
   "metadata": {},
   "outputs": [],
   "source": []
  }
 ],
 "metadata": {
  "kernelspec": {
   "display_name": "Python 3",
   "language": "python",
   "name": "python3"
  },
  "language_info": {
   "codemirror_mode": {
    "name": "ipython",
    "version": 3
   },
   "file_extension": ".py",
   "mimetype": "text/x-python",
   "name": "python",
   "nbconvert_exporter": "python",
   "pygments_lexer": "ipython3",
   "version": "3.8.8"
  }
 },
 "nbformat": 4,
 "nbformat_minor": 5
}
