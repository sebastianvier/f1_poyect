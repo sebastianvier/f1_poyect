{
 "cells": [
  {
   "cell_type": "code",
   "execution_count": 1,
   "id": "1c50c4fd",
   "metadata": {},
   "outputs": [],
   "source": [
    "## import modules\n",
    "import urllib.request as urlr\n",
    "import numpy as np\n",
    "import pandas as pd\n",
    "from bs4 import BeautifulSoup\n",
    "from datetime import datetime\n",
    "import bs4_functions \n",
    "import urllib.parse"
   ]
  },
  {
   "cell_type": "code",
   "execution_count": 2,
   "id": "8b4636e0",
   "metadata": {},
   "outputs": [],
   "source": [
    "url = urlr.urlopen(\"https://www.racing-statistics.com/en/seasons\")\n",
    "soup = BeautifulSoup(url)\n",
    "rows = soup.find_all('table')[0].find_all('tr')[52:]\n",
    "season_links = [i for i in bs4_functions.season_link_gen(rows)] # Array of array with [season_name, season_url]"
   ]
  },
  {
   "cell_type": "markdown",
   "id": "103e309b",
   "metadata": {},
   "source": [
    "### Get constructor info"
   ]
  },
  {
   "cell_type": "code",
   "execution_count": null,
   "id": "2837afca",
   "metadata": {},
   "outputs": [],
   "source": []
  },
  {
   "cell_type": "code",
   "execution_count": null,
   "id": "bc607305",
   "metadata": {},
   "outputs": [],
   "source": []
  },
  {
   "cell_type": "markdown",
   "id": "ebe1e84f",
   "metadata": {},
   "source": [
    "## Get races to build the connections latter"
   ]
  },
  {
   "cell_type": "code",
   "execution_count": 10,
   "id": "432facae",
   "metadata": {
    "scrolled": true
   },
   "outputs": [
    {
     "name": "stdout",
     "output_type": "stream",
     "text": [
      "https://www.racing-statistics.com/en/seasons/2001\n",
      "https://www.racing-statistics.com/en/seasons/2002\n",
      "https://www.racing-statistics.com/en/seasons/2003\n",
      "https://www.racing-statistics.com/en/seasons/2004\n",
      "https://www.racing-statistics.com/en/seasons/2005\n",
      "https://www.racing-statistics.com/en/seasons/2006\n",
      "https://www.racing-statistics.com/en/seasons/2007\n",
      "https://www.racing-statistics.com/en/seasons/2008\n",
      "https://www.racing-statistics.com/en/seasons/2009\n",
      "https://www.racing-statistics.com/en/seasons/2010\n",
      "https://www.racing-statistics.com/en/seasons/2011\n",
      "https://www.racing-statistics.com/en/seasons/2012\n",
      "https://www.racing-statistics.com/en/seasons/2013\n",
      "https://www.racing-statistics.com/en/seasons/2014\n",
      "https://www.racing-statistics.com/en/seasons/2015\n",
      "https://www.racing-statistics.com/en/seasons/2016\n",
      "https://www.racing-statistics.com/en/seasons/2017\n",
      "https://www.racing-statistics.com/en/seasons/2018\n",
      "https://www.racing-statistics.com/en/seasons/2019\n",
      "https://www.racing-statistics.com/en/seasons/2020\n",
      "https://www.racing-statistics.com/en/seasons/2021\n",
      "https://www.racing-statistics.com/en/seasons/2022\n"
     ]
    }
   ],
   "source": [
    "## table_number 1, cell position 2\n",
    "races_urls = []\n",
    "verification_list = []\n",
    "for season in season_links:\n",
    "    url = season[1]\n",
    "    print(url)\n",
    "    table_number = 1\n",
    "    cell_position = 2\n",
    "    for i in  bs4_functions.get_links_from_table(url, table_number, cell_position\n",
    "                                                 , verification_list=verification_list, year_flag=True,s_name=False):\n",
    "        races_urls.append(i)"
   ]
  },
  {
   "cell_type": "code",
   "execution_count": 12,
   "id": "f4517a3b",
   "metadata": {},
   "outputs": [
    {
     "data": {
      "text/plain": [
       "396"
      ]
     },
     "execution_count": 12,
     "metadata": {},
     "output_type": "execute_result"
    }
   ],
   "source": [
    "len(races_urls)"
   ]
  },
  {
   "cell_type": "code",
   "execution_count": null,
   "id": "3ebaac41",
   "metadata": {},
   "outputs": [],
   "source": []
  }
 ],
 "metadata": {
  "kernelspec": {
   "display_name": "Python 3",
   "language": "python",
   "name": "python3"
  },
  "language_info": {
   "codemirror_mode": {
    "name": "ipython",
    "version": 3
   },
   "file_extension": ".py",
   "mimetype": "text/x-python",
   "name": "python",
   "nbconvert_exporter": "python",
   "pygments_lexer": "ipython3",
   "version": "3.8.8"
  }
 },
 "nbformat": 4,
 "nbformat_minor": 5
}
