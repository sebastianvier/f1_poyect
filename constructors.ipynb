{
 "cells": [
  {
   "cell_type": "code",
   "execution_count": 1,
   "id": "1c50c4fd",
   "metadata": {},
   "outputs": [],
   "source": [
    "## import modules\n",
    "import urllib.request as urlr\n",
    "import numpy as np\n",
    "import pandas as pd\n",
    "from bs4 import BeautifulSoup\n",
    "from datetime import datetime\n",
    "import bs4_functions \n",
    "import urllib.parse"
   ]
  },
  {
   "cell_type": "code",
   "execution_count": 2,
   "id": "8b4636e0",
   "metadata": {},
   "outputs": [],
   "source": [
    "url = urlr.urlopen(\"https://www.racing-statistics.com/en/seasons\")\n",
    "soup = BeautifulSoup(url)\n",
    "rows = soup.find_all('table')[0].find_all('tr')[52:]\n",
    "season_links = [i for i in bs4_functions.season_link_gen(rows)] # Array of array with [season_name, season_url]"
   ]
  },
  {
   "cell_type": "code",
   "execution_count": 71,
   "id": "75242970",
   "metadata": {},
   "outputs": [],
   "source": [
    "url_array = [i[1] for i in season_links]"
   ]
  },
  {
   "cell_type": "code",
   "execution_count": 72,
   "id": "baa405be",
   "metadata": {},
   "outputs": [
    {
     "data": {
      "text/plain": [
       "['https://www.racing-statistics.com/en/seasons/2001',\n",
       " 'https://www.racing-statistics.com/en/seasons/2002',\n",
       " 'https://www.racing-statistics.com/en/seasons/2003',\n",
       " 'https://www.racing-statistics.com/en/seasons/2004',\n",
       " 'https://www.racing-statistics.com/en/seasons/2005',\n",
       " 'https://www.racing-statistics.com/en/seasons/2006',\n",
       " 'https://www.racing-statistics.com/en/seasons/2007',\n",
       " 'https://www.racing-statistics.com/en/seasons/2008',\n",
       " 'https://www.racing-statistics.com/en/seasons/2009',\n",
       " 'https://www.racing-statistics.com/en/seasons/2010',\n",
       " 'https://www.racing-statistics.com/en/seasons/2011',\n",
       " 'https://www.racing-statistics.com/en/seasons/2012',\n",
       " 'https://www.racing-statistics.com/en/seasons/2013',\n",
       " 'https://www.racing-statistics.com/en/seasons/2014',\n",
       " 'https://www.racing-statistics.com/en/seasons/2015',\n",
       " 'https://www.racing-statistics.com/en/seasons/2016',\n",
       " 'https://www.racing-statistics.com/en/seasons/2017',\n",
       " 'https://www.racing-statistics.com/en/seasons/2018',\n",
       " 'https://www.racing-statistics.com/en/seasons/2019',\n",
       " 'https://www.racing-statistics.com/en/seasons/2020',\n",
       " 'https://www.racing-statistics.com/en/seasons/2021',\n",
       " 'https://www.racing-statistics.com/en/seasons/2022']"
      ]
     },
     "execution_count": 72,
     "metadata": {},
     "output_type": "execute_result"
    }
   ],
   "source": []
  },
  {
   "cell_type": "markdown",
   "id": "103e309b",
   "metadata": {},
   "source": [
    "### Get constructor info"
   ]
  },
  {
   "cell_type": "code",
   "execution_count": 74,
   "id": "72ecff21",
   "metadata": {},
   "outputs": [],
   "source": [
    "def constructor_generator(url_array, verification_list):\n",
    "    def season_constructor_gen(url):\n",
    "        \"\"\"Given a single url, this functions returns all the constructor in that url\"\"\"\n",
    "\n",
    "        ## Get all the rows needed\n",
    "        url = urlr.urlopen(\"https://www.racing-statistics.com/en/seasons/2001\")\n",
    "        soup = BeautifulSoup(url)\n",
    "        rows = soup.find('table').find_all('tr')[1:] # 1: because the first row is usually just a header.\n",
    "\n",
    "        ## Get a url for each row\n",
    "        for row in rows[1:]:\n",
    "            anchor = row.find_all('a')[2]\n",
    "\n",
    "            name = anchor.text\n",
    "            url  = anchor['href']\n",
    "\n",
    "            if url not in verification_list:\n",
    "                verification_list.append(url)\n",
    "                yield [name, url]\n",
    "                \n",
    "    for url in url_array: # Because this will used for every url in the url_array.\n",
    "        print(url)\n",
    "        array = [i for i in season_constructor_gen(url)]\n",
    "        yield np.array(array)"
   ]
  },
  {
   "cell_type": "code",
   "execution_count": 75,
   "id": "a6fc6066",
   "metadata": {},
   "outputs": [
    {
     "name": "stdout",
     "output_type": "stream",
     "text": [
      "https://www.racing-statistics.com/en/seasons/2001\n",
      "https://www.racing-statistics.com/en/seasons/2002\n",
      "https://www.racing-statistics.com/en/seasons/2003\n"
     ]
    },
    {
     "ename": "ValueError",
     "evalue": "all the input arrays must have same number of dimensions, but the array at index 0 has 2 dimension(s) and the array at index 1 has 1 dimension(s)",
     "output_type": "error",
     "traceback": [
      "\u001b[0;31m---------------------------------------------------------------------------\u001b[0m",
      "\u001b[0;31mValueError\u001b[0m                                Traceback (most recent call last)",
      "\u001b[0;32m<ipython-input-75-e7b07bfc0f4f>\u001b[0m in \u001b[0;36m<module>\u001b[0;34m\u001b[0m\n\u001b[1;32m      1\u001b[0m \u001b[0mverification_list\u001b[0m \u001b[0;34m=\u001b[0m \u001b[0;34m[\u001b[0m\u001b[0;34m]\u001b[0m\u001b[0;34m\u001b[0m\u001b[0;34m\u001b[0m\u001b[0m\n\u001b[0;32m----> 2\u001b[0;31m \u001b[0marray\u001b[0m \u001b[0;34m=\u001b[0m \u001b[0mnp\u001b[0m\u001b[0;34m.\u001b[0m\u001b[0mconcatenate\u001b[0m\u001b[0;34m(\u001b[0m\u001b[0;34m[\u001b[0m\u001b[0mi\u001b[0m \u001b[0;32mfor\u001b[0m \u001b[0mi\u001b[0m \u001b[0;32min\u001b[0m \u001b[0mconstructor_generator\u001b[0m\u001b[0;34m(\u001b[0m\u001b[0murl_array\u001b[0m\u001b[0;34m[\u001b[0m\u001b[0;34m:\u001b[0m\u001b[0;36m3\u001b[0m\u001b[0;34m]\u001b[0m\u001b[0;34m,\u001b[0m \u001b[0mverification_list\u001b[0m\u001b[0;34m)\u001b[0m\u001b[0;34m]\u001b[0m\u001b[0;34m)\u001b[0m\u001b[0;34m\u001b[0m\u001b[0;34m\u001b[0m\u001b[0m\n\u001b[0m",
      "\u001b[0;32m<__array_function__ internals>\u001b[0m in \u001b[0;36mconcatenate\u001b[0;34m(*args, **kwargs)\u001b[0m\n",
      "\u001b[0;31mValueError\u001b[0m: all the input arrays must have same number of dimensions, but the array at index 0 has 2 dimension(s) and the array at index 1 has 1 dimension(s)"
     ]
    }
   ],
   "source": [
    "verification_list = []\n",
    "array = np.concatenate([i for i in constructor_generator(url_array[:3], verification_list)])"
   ]
  },
  {
   "cell_type": "code",
   "execution_count": null,
   "id": "68a72e41",
   "metadata": {},
   "outputs": [],
   "source": [
    "def get_constructors_links():"
   ]
  },
  {
   "cell_type": "markdown",
   "id": "ebe1e84f",
   "metadata": {},
   "source": [
    "### Get races to build the connections latter"
   ]
  },
  {
   "cell_type": "code",
   "execution_count": 10,
   "id": "432facae",
   "metadata": {
    "scrolled": true
   },
   "outputs": [
    {
     "name": "stdout",
     "output_type": "stream",
     "text": [
      "https://www.racing-statistics.com/en/seasons/2001\n",
      "https://www.racing-statistics.com/en/seasons/2002\n",
      "https://www.racing-statistics.com/en/seasons/2003\n",
      "https://www.racing-statistics.com/en/seasons/2004\n",
      "https://www.racing-statistics.com/en/seasons/2005\n",
      "https://www.racing-statistics.com/en/seasons/2006\n",
      "https://www.racing-statistics.com/en/seasons/2007\n",
      "https://www.racing-statistics.com/en/seasons/2008\n",
      "https://www.racing-statistics.com/en/seasons/2009\n",
      "https://www.racing-statistics.com/en/seasons/2010\n",
      "https://www.racing-statistics.com/en/seasons/2011\n",
      "https://www.racing-statistics.com/en/seasons/2012\n",
      "https://www.racing-statistics.com/en/seasons/2013\n",
      "https://www.racing-statistics.com/en/seasons/2014\n",
      "https://www.racing-statistics.com/en/seasons/2015\n",
      "https://www.racing-statistics.com/en/seasons/2016\n",
      "https://www.racing-statistics.com/en/seasons/2017\n",
      "https://www.racing-statistics.com/en/seasons/2018\n",
      "https://www.racing-statistics.com/en/seasons/2019\n",
      "https://www.racing-statistics.com/en/seasons/2020\n",
      "https://www.racing-statistics.com/en/seasons/2021\n",
      "https://www.racing-statistics.com/en/seasons/2022\n"
     ]
    }
   ],
   "source": [
    "## table_number 1, cell position 2\n",
    "races_urls = []\n",
    "verification_list = []\n",
    "for season in season_links:\n",
    "    url = season[1]\n",
    "    print(url)\n",
    "    table_number = 1\n",
    "    cell_position = 2\n",
    "    for i in  bs4_functions.get_links_from_table(url, table_number, cell_position\n",
    "                                                 , verification_list=verification_list, year_flag=True,s_name=False):\n",
    "        races_urls.append(i)"
   ]
  },
  {
   "cell_type": "code",
   "execution_count": null,
   "id": "3ebaac41",
   "metadata": {},
   "outputs": [],
   "source": []
  }
 ],
 "metadata": {
  "kernelspec": {
   "display_name": "Python 3",
   "language": "python",
   "name": "python3"
  },
  "language_info": {
   "codemirror_mode": {
    "name": "ipython",
    "version": 3
   },
   "file_extension": ".py",
   "mimetype": "text/x-python",
   "name": "python",
   "nbconvert_exporter": "python",
   "pygments_lexer": "ipython3",
   "version": "3.8.8"
  }
 },
 "nbformat": 4,
 "nbformat_minor": 5
}
