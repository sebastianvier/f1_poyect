{
 "cells": [
  {
   "cell_type": "code",
   "execution_count": 1,
   "id": "0ab08953",
   "metadata": {},
   "outputs": [],
   "source": [
    "import numpy as np\n",
    "import pandas as pd"
   ]
  },
  {
   "cell_type": "code",
   "execution_count": 3,
   "id": "bf7091fe",
   "metadata": {},
   "outputs": [
    {
     "name": "stdout",
     "output_type": "stream",
     "text": [
      "f1_grid.csv     f1_results.csv\r\n"
     ]
    }
   ],
   "source": [
    "ls data"
   ]
  },
  {
   "cell_type": "code",
   "execution_count": 5,
   "id": "57b81f2a",
   "metadata": {},
   "outputs": [],
   "source": [
    "path = './data/'\n",
    "\n",
    "grid = pd.read_csv(path + 'f1_grid.csv')\n",
    "results = pd.read_csv(path + 'f1_results.csv')"
   ]
  },
  {
   "cell_type": "code",
   "execution_count": 16,
   "id": "d9fcf230",
   "metadata": {
    "scrolled": true
   },
   "outputs": [],
   "source": [
    "grid.columns = ['positions', 'time', 'driver', 'constructor', 'race']\n",
    "results.columns = ['positions','laps', 'time', 'points', 'driver', 'constructor', 'race']"
   ]
  },
  {
   "cell_type": "code",
   "execution_count": 18,
   "id": "2035a6d7",
   "metadata": {},
   "outputs": [
    {
     "data": {
      "text/html": [
       "<div>\n",
       "<style scoped>\n",
       "    .dataframe tbody tr th:only-of-type {\n",
       "        vertical-align: middle;\n",
       "    }\n",
       "\n",
       "    .dataframe tbody tr th {\n",
       "        vertical-align: top;\n",
       "    }\n",
       "\n",
       "    .dataframe thead th {\n",
       "        text-align: right;\n",
       "    }\n",
       "</style>\n",
       "<table border=\"1\" class=\"dataframe\">\n",
       "  <thead>\n",
       "    <tr style=\"text-align: right;\">\n",
       "      <th></th>\n",
       "      <th>positions</th>\n",
       "      <th>laps</th>\n",
       "      <th>time</th>\n",
       "      <th>points</th>\n",
       "      <th>driver</th>\n",
       "      <th>constructor</th>\n",
       "      <th>race</th>\n",
       "    </tr>\n",
       "  </thead>\n",
       "  <tbody>\n",
       "    <tr>\n",
       "      <th>0</th>\n",
       "      <td>1.0</td>\n",
       "      <td>1:38:26.533</td>\n",
       "      <td>58</td>\n",
       "      <td>10.0</td>\n",
       "      <td>Michael Schumacher</td>\n",
       "      <td>Ferrari</td>\n",
       "      <td>2001 Australian Grand Prix</td>\n",
       "    </tr>\n",
       "    <tr>\n",
       "      <th>1</th>\n",
       "      <td>2.0</td>\n",
       "      <td>+1.717</td>\n",
       "      <td>58</td>\n",
       "      <td>6.0</td>\n",
       "      <td>David Coulthard</td>\n",
       "      <td>McLaren</td>\n",
       "      <td>2001 Australian Grand Prix</td>\n",
       "    </tr>\n",
       "    <tr>\n",
       "      <th>2</th>\n",
       "      <td>3.0</td>\n",
       "      <td>+33.491</td>\n",
       "      <td>58</td>\n",
       "      <td>4.0</td>\n",
       "      <td>Rubens Barrichello</td>\n",
       "      <td>Ferrari</td>\n",
       "      <td>2001 Australian Grand Prix</td>\n",
       "    </tr>\n",
       "    <tr>\n",
       "      <th>3</th>\n",
       "      <td>4.0</td>\n",
       "      <td>+1:11.479</td>\n",
       "      <td>58</td>\n",
       "      <td>3.0</td>\n",
       "      <td>Nick Heidfeld</td>\n",
       "      <td>Sauber</td>\n",
       "      <td>2001 Australian Grand Prix</td>\n",
       "    </tr>\n",
       "    <tr>\n",
       "      <th>4</th>\n",
       "      <td>5.0</td>\n",
       "      <td>+1:12.807</td>\n",
       "      <td>58</td>\n",
       "      <td>2.0</td>\n",
       "      <td>Heinz-Harald Frentzen</td>\n",
       "      <td>Jordan</td>\n",
       "      <td>2001 Australian Grand Prix</td>\n",
       "    </tr>\n",
       "  </tbody>\n",
       "</table>\n",
       "</div>"
      ],
      "text/plain": [
       "   positions         laps  time  points                 driver constructor  \\\n",
       "0        1.0  1:38:26.533    58    10.0     Michael Schumacher     Ferrari   \n",
       "1        2.0       +1.717    58     6.0        David Coulthard     McLaren   \n",
       "2        3.0      +33.491    58     4.0     Rubens Barrichello     Ferrari   \n",
       "3        4.0    +1:11.479    58     3.0          Nick Heidfeld      Sauber   \n",
       "4        5.0    +1:12.807    58     2.0  Heinz-Harald Frentzen      Jordan   \n",
       "\n",
       "                         race  \n",
       "0  2001 Australian Grand Prix  \n",
       "1  2001 Australian Grand Prix  \n",
       "2  2001 Australian Grand Prix  \n",
       "3  2001 Australian Grand Prix  \n",
       "4  2001 Australian Grand Prix  "
      ]
     },
     "execution_count": 18,
     "metadata": {},
     "output_type": "execute_result"
    }
   ],
   "source": [
    "results.head()"
   ]
  },
  {
   "cell_type": "code",
   "execution_count": 19,
   "id": "8018f7d7",
   "metadata": {},
   "outputs": [
    {
     "data": {
      "text/html": [
       "<div>\n",
       "<style scoped>\n",
       "    .dataframe tbody tr th:only-of-type {\n",
       "        vertical-align: middle;\n",
       "    }\n",
       "\n",
       "    .dataframe tbody tr th {\n",
       "        vertical-align: top;\n",
       "    }\n",
       "\n",
       "    .dataframe thead th {\n",
       "        text-align: right;\n",
       "    }\n",
       "</style>\n",
       "<table border=\"1\" class=\"dataframe\">\n",
       "  <thead>\n",
       "    <tr style=\"text-align: right;\">\n",
       "      <th></th>\n",
       "      <th>positions</th>\n",
       "      <th>time</th>\n",
       "      <th>driver</th>\n",
       "      <th>constructor</th>\n",
       "      <th>race</th>\n",
       "    </tr>\n",
       "  </thead>\n",
       "  <tbody>\n",
       "    <tr>\n",
       "      <th>0</th>\n",
       "      <td>1</td>\n",
       "      <td>NaN</td>\n",
       "      <td>Michael Schumacher</td>\n",
       "      <td>Ferrari</td>\n",
       "      <td>2001 Australian Grand Prix</td>\n",
       "    </tr>\n",
       "    <tr>\n",
       "      <th>1</th>\n",
       "      <td>2</td>\n",
       "      <td>NaN</td>\n",
       "      <td>Rubens Barrichello</td>\n",
       "      <td>Ferrari</td>\n",
       "      <td>2001 Australian Grand Prix</td>\n",
       "    </tr>\n",
       "    <tr>\n",
       "      <th>2</th>\n",
       "      <td>3</td>\n",
       "      <td>NaN</td>\n",
       "      <td>Mika Häkkinen</td>\n",
       "      <td>McLaren</td>\n",
       "      <td>2001 Australian Grand Prix</td>\n",
       "    </tr>\n",
       "    <tr>\n",
       "      <th>3</th>\n",
       "      <td>4</td>\n",
       "      <td>NaN</td>\n",
       "      <td>Heinz-Harald Frentzen</td>\n",
       "      <td>Jordan</td>\n",
       "      <td>2001 Australian Grand Prix</td>\n",
       "    </tr>\n",
       "    <tr>\n",
       "      <th>4</th>\n",
       "      <td>5</td>\n",
       "      <td>NaN</td>\n",
       "      <td>Ralf Schumacher</td>\n",
       "      <td>Williams</td>\n",
       "      <td>2001 Australian Grand Prix</td>\n",
       "    </tr>\n",
       "  </tbody>\n",
       "</table>\n",
       "</div>"
      ],
      "text/plain": [
       "   positions time                 driver constructor  \\\n",
       "0          1  NaN     Michael Schumacher     Ferrari   \n",
       "1          2  NaN     Rubens Barrichello     Ferrari   \n",
       "2          3  NaN          Mika Häkkinen     McLaren   \n",
       "3          4  NaN  Heinz-Harald Frentzen      Jordan   \n",
       "4          5  NaN        Ralf Schumacher    Williams   \n",
       "\n",
       "                         race  \n",
       "0  2001 Australian Grand Prix  \n",
       "1  2001 Australian Grand Prix  \n",
       "2  2001 Australian Grand Prix  \n",
       "3  2001 Australian Grand Prix  \n",
       "4  2001 Australian Grand Prix  "
      ]
     },
     "execution_count": 19,
     "metadata": {},
     "output_type": "execute_result"
    }
   ],
   "source": [
    "grid.head()"
   ]
  }
 ],
 "metadata": {
  "kernelspec": {
   "display_name": "Python 3",
   "language": "python",
   "name": "python3"
  },
  "language_info": {
   "codemirror_mode": {
    "name": "ipython",
    "version": 3
   },
   "file_extension": ".py",
   "mimetype": "text/x-python",
   "name": "python",
   "nbconvert_exporter": "python",
   "pygments_lexer": "ipython3",
   "version": "3.8.8"
  }
 },
 "nbformat": 4,
 "nbformat_minor": 5
}
