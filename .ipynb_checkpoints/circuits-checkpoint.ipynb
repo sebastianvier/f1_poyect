{
 "cells": [
  {
   "cell_type": "code",
   "execution_count": 1,
   "id": "41fe95ba",
   "metadata": {},
   "outputs": [],
   "source": [
    "## import modules\n",
    "import urllib.request as urlr\n",
    "import numpy as np\n",
    "import pandas as pd\n",
    "from bs4 import BeautifulSoup\n",
    "from datetime import datetime\n",
    "import bs4_functions "
   ]
  },
  {
   "cell_type": "code",
   "execution_count": 2,
   "id": "73b786e3",
   "metadata": {},
   "outputs": [],
   "source": [
    "url = urlr.urlopen(\"https://www.racing-statistics.com/en/seasons\")\n",
    "soup = BeautifulSoup(url)\n",
    "rows = soup.find_all('table')[0].find_all('tr')[52:]\n",
    "season_links = [i for i in bs4_functions.season_link_gen(rows)] # Array of array with [season_name, season_url]"
   ]
  },
  {
   "cell_type": "code",
   "execution_count": 3,
   "id": "ee2bb7d3",
   "metadata": {},
   "outputs": [],
   "source": [
    "season_link = season_links[0][1]"
   ]
  },
  {
   "cell_type": "code",
   "execution_count": 4,
   "id": "08674af3",
   "metadata": {},
   "outputs": [],
   "source": [
    "url = urlr.urlopen(season_link)\n",
    "soup = BeautifulSoup(url)"
   ]
  },
  {
   "cell_type": "code",
   "execution_count": 5,
   "id": "16fdcb1a",
   "metadata": {},
   "outputs": [
    {
     "data": {
      "text/plain": [
       "[<td>1</td>,\n",
       " <td>2001-03-04</td>,\n",
       " <td><a href=\"https://www.racing-statistics.com/en/events/2001-australian-grand-prix\">Australian Grand Prix</a></td>,\n",
       " <td class=\"nomob\"><a href=\"https://www.racing-statistics.com/en/circuits/albert-park-grand-prix-circuit\">Albert Park Grand Prix Circuit</a></td>,\n",
       " <td width=\"1\"><span class=\"flag-icon flag-icon-de\"></span></td>,\n",
       " <td><a href=\"https://www.racing-statistics.com/en/f1-drivers/michael-schumacher\">Michael Schumacher</a></td>,\n",
       " <td><a href=\"https://www.racing-statistics.com/en/f1-constructors/ferrari\">Ferrari</a></td>,\n",
       " <td class=\"nomob\">58</td>,\n",
       " <td class=\"nomob\">1:38:26.533</td>]"
      ]
     },
     "execution_count": 5,
     "metadata": {},
     "output_type": "execute_result"
    }
   ],
   "source": [
    "soup.find_all(\"table\")[1].find_all(\"tr\")[1].find_all(\"td\")"
   ]
  },
  {
   "cell_type": "code",
   "execution_count": 6,
   "id": "3390805b",
   "metadata": {},
   "outputs": [],
   "source": []
  },
  {
   "cell_type": "code",
   "execution_count": null,
   "id": "21511fa7",
   "metadata": {
    "scrolled": true
   },
   "outputs": [
    {
     "name": "stdout",
     "output_type": "stream",
     "text": [
      "https://www.racing-statistics.com/en/seasons/2001\n",
      "https://www.racing-statistics.com/en/seasons/2002\n",
      "https://www.racing-statistics.com/en/seasons/2003\n",
      "https://www.racing-statistics.com/en/seasons/2004\n",
      "https://www.racing-statistics.com/en/seasons/2005\n"
     ]
    }
   ],
   "source": [
    "cicuits_urls = []\n",
    "for season in season_links:\n",
    "    url = season[1]\n",
    "    print(url)\n",
    "    table_number = 1\n",
    "    cell_position = 2\n",
    "    for i in  bs4_functions.get_links_from_table(url, table_number, cell_position, verification_list=list(), \n",
    "                                                 year_flag=True,s_name=False):\n",
    "        cicuits_urls.append(i)"
   ]
  },
  {
   "cell_type": "code",
   "execution_count": 20,
   "id": "623580d3",
   "metadata": {},
   "outputs": [],
   "source": [
    "df = pd.DataFrame(np.array(cicuits_urls))"
   ]
  },
  {
   "cell_type": "code",
   "execution_count": 21,
   "id": "bc5d1518",
   "metadata": {},
   "outputs": [
    {
     "data": {
      "text/html": [
       "<div>\n",
       "<style scoped>\n",
       "    .dataframe tbody tr th:only-of-type {\n",
       "        vertical-align: middle;\n",
       "    }\n",
       "\n",
       "    .dataframe tbody tr th {\n",
       "        vertical-align: top;\n",
       "    }\n",
       "\n",
       "    .dataframe thead th {\n",
       "        text-align: right;\n",
       "    }\n",
       "</style>\n",
       "<table border=\"1\" class=\"dataframe\">\n",
       "  <thead>\n",
       "    <tr style=\"text-align: right;\">\n",
       "      <th></th>\n",
       "      <th>0</th>\n",
       "      <th>1</th>\n",
       "    </tr>\n",
       "  </thead>\n",
       "  <tbody>\n",
       "    <tr>\n",
       "      <th>0</th>\n",
       "      <td>Albert Park Grand Prix Circuit 2001</td>\n",
       "      <td>https://www.racing-statistics.com/en/circuits/...</td>\n",
       "    </tr>\n",
       "    <tr>\n",
       "      <th>1</th>\n",
       "      <td>Sepang International Circuit 2001</td>\n",
       "      <td>https://www.racing-statistics.com/en/circuits/...</td>\n",
       "    </tr>\n",
       "    <tr>\n",
       "      <th>2</th>\n",
       "      <td>Autódromo José Carlos Pace 2001</td>\n",
       "      <td>https://www.racing-statistics.com/en/circuits/...</td>\n",
       "    </tr>\n",
       "    <tr>\n",
       "      <th>3</th>\n",
       "      <td>Autodromo Enzo e Dino Ferrari 2001</td>\n",
       "      <td>https://www.racing-statistics.com/en/circuits/...</td>\n",
       "    </tr>\n",
       "    <tr>\n",
       "      <th>4</th>\n",
       "      <td>Circuit de Barcelona-Catalunya 2001</td>\n",
       "      <td>https://www.racing-statistics.com/en/circuits/...</td>\n",
       "    </tr>\n",
       "    <tr>\n",
       "      <th>...</th>\n",
       "      <td>...</td>\n",
       "      <td>...</td>\n",
       "    </tr>\n",
       "    <tr>\n",
       "      <th>387</th>\n",
       "      <td>Losail International Circuit 2021</td>\n",
       "      <td>https://www.racing-statistics.com/en/circuits/...</td>\n",
       "    </tr>\n",
       "    <tr>\n",
       "      <th>388</th>\n",
       "      <td>Jeddah Corniche Circuit 2021</td>\n",
       "      <td>https://www.racing-statistics.com/en/circuits/...</td>\n",
       "    </tr>\n",
       "    <tr>\n",
       "      <th>389</th>\n",
       "      <td>Yas Marina Circuit 2021</td>\n",
       "      <td>https://www.racing-statistics.com/en/circuits/...</td>\n",
       "    </tr>\n",
       "    <tr>\n",
       "      <th>390</th>\n",
       "      <td>Bahrain International Circuit 2022</td>\n",
       "      <td>https://www.racing-statistics.com/en/circuits/...</td>\n",
       "    </tr>\n",
       "    <tr>\n",
       "      <th>391</th>\n",
       "      <td>Jeddah Corniche Circuit 2022</td>\n",
       "      <td>https://www.racing-statistics.com/en/circuits/...</td>\n",
       "    </tr>\n",
       "  </tbody>\n",
       "</table>\n",
       "<p>392 rows × 2 columns</p>\n",
       "</div>"
      ],
      "text/plain": [
       "                                       0  \\\n",
       "0    Albert Park Grand Prix Circuit 2001   \n",
       "1      Sepang International Circuit 2001   \n",
       "2        Autódromo José Carlos Pace 2001   \n",
       "3     Autodromo Enzo e Dino Ferrari 2001   \n",
       "4    Circuit de Barcelona-Catalunya 2001   \n",
       "..                                   ...   \n",
       "387    Losail International Circuit 2021   \n",
       "388         Jeddah Corniche Circuit 2021   \n",
       "389              Yas Marina Circuit 2021   \n",
       "390   Bahrain International Circuit 2022   \n",
       "391         Jeddah Corniche Circuit 2022   \n",
       "\n",
       "                                                     1  \n",
       "0    https://www.racing-statistics.com/en/circuits/...  \n",
       "1    https://www.racing-statistics.com/en/circuits/...  \n",
       "2    https://www.racing-statistics.com/en/circuits/...  \n",
       "3    https://www.racing-statistics.com/en/circuits/...  \n",
       "4    https://www.racing-statistics.com/en/circuits/...  \n",
       "..                                                 ...  \n",
       "387  https://www.racing-statistics.com/en/circuits/...  \n",
       "388  https://www.racing-statistics.com/en/circuits/...  \n",
       "389  https://www.racing-statistics.com/en/circuits/...  \n",
       "390  https://www.racing-statistics.com/en/circuits/...  \n",
       "391  https://www.racing-statistics.com/en/circuits/...  \n",
       "\n",
       "[392 rows x 2 columns]"
      ]
     },
     "execution_count": 21,
     "metadata": {},
     "output_type": "execute_result"
    }
   ],
   "source": [
    "df"
   ]
  }
 ],
 "metadata": {
  "kernelspec": {
   "display_name": "Python 3",
   "language": "python",
   "name": "python3"
  },
  "language_info": {
   "codemirror_mode": {
    "name": "ipython",
    "version": 3
   },
   "file_extension": ".py",
   "mimetype": "text/x-python",
   "name": "python",
   "nbconvert_exporter": "python",
   "pygments_lexer": "ipython3",
   "version": "3.8.8"
  }
 },
 "nbformat": 4,
 "nbformat_minor": 5
}
