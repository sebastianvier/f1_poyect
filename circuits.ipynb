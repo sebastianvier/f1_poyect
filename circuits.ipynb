{
 "cells": [
  {
   "cell_type": "code",
   "execution_count": 1,
   "id": "f6d93661",
   "metadata": {
    "scrolled": true
   },
   "outputs": [],
   "source": [
    "## import modules\n",
    "import urllib.request as urlr\n",
    "import numpy as np\n",
    "import pandas as pd\n",
    "from bs4 import BeautifulSoup\n",
    "from datetime import datetime\n",
    "import bs4_functions \n",
    "import urllib.parse"
   ]
  },
  {
   "cell_type": "code",
   "execution_count": 2,
   "id": "56d085ea",
   "metadata": {},
   "outputs": [],
   "source": [
    "url = urlr.urlopen(\"https://www.racing-statistics.com/en/seasons\")\n",
    "soup = BeautifulSoup(url)\n",
    "rows = soup.find_all('table')[0].find_all('tr')[52:]\n",
    "season_links = [i for i in bs4_functions.season_link_gen(rows)] # Array of array with [season_name, season_url]"
   ]
  },
  {
   "cell_type": "markdown",
   "id": "f70a8cd8",
   "metadata": {},
   "source": [
    "### Get all the circuits urls"
   ]
  },
  {
   "cell_type": "code",
   "execution_count": 3,
   "id": "47c9d3bb",
   "metadata": {
    "scrolled": false
   },
   "outputs": [
    {
     "name": "stdout",
     "output_type": "stream",
     "text": [
      "https://www.racing-statistics.com/en/seasons/2001\n",
      "https://www.racing-statistics.com/en/seasons/2002\n"
     ]
    }
   ],
   "source": [
    "circuits_urls = []\n",
    "verification_lst = [] ## The verification has to be initialized outside the loop.\n",
    "for season in season_links[:2]:\n",
    "    url = season[1]\n",
    "    print(url)\n",
    "    table_number = 1\n",
    "    cell_position = 3\n",
    "    for i in  bs4_functions.get_links_from_table(url, table_number, cell_position, \n",
    "                                                 verification_list=verification_lst, \n",
    "                                                 year_flag=True,s_name=False):\n",
    "        circuits_urls.append(i)"
   ]
  },
  {
   "cell_type": "code",
   "execution_count": 4,
   "id": "cbd46283",
   "metadata": {},
   "outputs": [
    {
     "data": {
      "text/plain": [
       "17"
      ]
     },
     "execution_count": 4,
     "metadata": {},
     "output_type": "execute_result"
    }
   ],
   "source": [
    "len(circuits_urls)"
   ]
  },
  {
   "cell_type": "code",
   "execution_count": 5,
   "id": "305b2372",
   "metadata": {},
   "outputs": [],
   "source": [
    "string = '/en/circuits/albert-park-grand-prix-circuit'"
   ]
  },
  {
   "cell_type": "code",
   "execution_count": 6,
   "id": "cabe9103",
   "metadata": {},
   "outputs": [
    {
     "data": {
      "text/plain": [
       "['', 'en', 'circuits', 'albert-park-grand-prix-circuit']"
      ]
     },
     "execution_count": 6,
     "metadata": {},
     "output_type": "execute_result"
    }
   ],
   "source": [
    "string.split('/')"
   ]
  },
  {
   "cell_type": "markdown",
   "id": "9066fd6b",
   "metadata": {},
   "source": [
    "### Get the circuits info"
   ]
  },
  {
   "cell_type": "code",
   "execution_count": 7,
   "id": "b83f94fa",
   "metadata": {},
   "outputs": [
    {
     "name": "stdout",
     "output_type": "stream",
     "text": [
      "/en/circuits/albert-park-grand-prix-circuit\n",
      "/en/circuits/sepang-international-circuit\n",
      "/en/circuits/autodromo-jose-carlos-pace\n",
      "/en/circuits/autodromo-enzo-e-dino-ferrari\n",
      "/en/circuits/circuit-de-barcelona-catalunya\n",
      "/en/circuits/a1-ring\n",
      "/en/circuits/circuit-de-monaco\n",
      "/en/circuits/circuit-gilles-villeneuve\n",
      "/en/circuits/nuerburgring\n",
      "/en/circuits/circuit-de-nevers-magny-cours\n",
      "/en/circuits/silverstone-circuit\n",
      "/en/circuits/hockenheimring\n",
      "/en/circuits/hungaroring\n",
      "/en/circuits/circuit-de-spa-francorchamps\n",
      "/en/circuits/autodromo-nazionale-di-monza\n",
      "/en/circuits/indianapolis-motor-speedway\n",
      "/en/circuits/suzuka-circuit\n"
     ]
    }
   ],
   "source": [
    "array = [i for i in bs4_functions.circuit_row_generator(circuits_urls)]"
   ]
  },
  {
   "cell_type": "code",
   "execution_count": 8,
   "id": "5408dda9",
   "metadata": {},
   "outputs": [
    {
     "data": {
      "text/html": [
       "<div>\n",
       "<style scoped>\n",
       "    .dataframe tbody tr th:only-of-type {\n",
       "        vertical-align: middle;\n",
       "    }\n",
       "\n",
       "    .dataframe tbody tr th {\n",
       "        vertical-align: top;\n",
       "    }\n",
       "\n",
       "    .dataframe thead th {\n",
       "        text-align: right;\n",
       "    }\n",
       "</style>\n",
       "<table border=\"1\" class=\"dataframe\">\n",
       "  <thead>\n",
       "    <tr style=\"text-align: right;\">\n",
       "      <th></th>\n",
       "      <th>0</th>\n",
       "      <th>1</th>\n",
       "      <th>2</th>\n",
       "    </tr>\n",
       "  </thead>\n",
       "  <tbody>\n",
       "    <tr>\n",
       "      <th>0</th>\n",
       "      <td>Albert Park Grand Prix Circuit</td>\n",
       "      <td>Australia</td>\n",
       "      <td>[-37.8497,  144.968]</td>\n",
       "    </tr>\n",
       "    <tr>\n",
       "      <th>1</th>\n",
       "      <td>Sepang International Circuit</td>\n",
       "      <td>Malaysia</td>\n",
       "      <td>[2.76083,  101.738]</td>\n",
       "    </tr>\n",
       "    <tr>\n",
       "      <th>2</th>\n",
       "      <td>Autodromo Jose Carlos Pace</td>\n",
       "      <td>Brazil</td>\n",
       "      <td>[-23.7036,  -46.6997]</td>\n",
       "    </tr>\n",
       "    <tr>\n",
       "      <th>3</th>\n",
       "      <td>Autodromo Enzo E Dino Ferrari</td>\n",
       "      <td>Italy</td>\n",
       "      <td>[44.3439,  11.7167]</td>\n",
       "    </tr>\n",
       "    <tr>\n",
       "      <th>4</th>\n",
       "      <td>Circuit De Barcelona Catalunya</td>\n",
       "      <td>Spain</td>\n",
       "      <td>[41.57,  2.26111]</td>\n",
       "    </tr>\n",
       "    <tr>\n",
       "      <th>5</th>\n",
       "      <td>A1 Ring</td>\n",
       "      <td>Austria</td>\n",
       "      <td>[47.2197,  14.7647]</td>\n",
       "    </tr>\n",
       "    <tr>\n",
       "      <th>6</th>\n",
       "      <td>Circuit De Monaco</td>\n",
       "      <td>Monaco</td>\n",
       "      <td>[43.7347,  7.42056]</td>\n",
       "    </tr>\n",
       "    <tr>\n",
       "      <th>7</th>\n",
       "      <td>Circuit Gilles Villeneuve</td>\n",
       "      <td>Canada</td>\n",
       "      <td>[45.5,  -73.5228]</td>\n",
       "    </tr>\n",
       "    <tr>\n",
       "      <th>8</th>\n",
       "      <td>Nuerburgring</td>\n",
       "      <td>Germany</td>\n",
       "      <td>[50.3356,  6.9475]</td>\n",
       "    </tr>\n",
       "    <tr>\n",
       "      <th>9</th>\n",
       "      <td>Circuit De Nevers Magny Cours</td>\n",
       "      <td>France</td>\n",
       "      <td>[46.8642,  3.16361]</td>\n",
       "    </tr>\n",
       "    <tr>\n",
       "      <th>10</th>\n",
       "      <td>Silverstone Circuit</td>\n",
       "      <td>United Kingdom of Great Britain and Northern I...</td>\n",
       "      <td>[52.0786,  -1.01694]</td>\n",
       "    </tr>\n",
       "    <tr>\n",
       "      <th>11</th>\n",
       "      <td>Hockenheimring</td>\n",
       "      <td>Germany</td>\n",
       "      <td>[49.3278,  8.56583]</td>\n",
       "    </tr>\n",
       "    <tr>\n",
       "      <th>12</th>\n",
       "      <td>Hungaroring</td>\n",
       "      <td>Hungary</td>\n",
       "      <td>[47.5789,  19.2486]</td>\n",
       "    </tr>\n",
       "    <tr>\n",
       "      <th>13</th>\n",
       "      <td>Circuit De Spa Francorchamps</td>\n",
       "      <td>Belgium</td>\n",
       "      <td>[50.4372,  5.97139]</td>\n",
       "    </tr>\n",
       "    <tr>\n",
       "      <th>14</th>\n",
       "      <td>Autodromo Nazionale Di Monza</td>\n",
       "      <td>Italy</td>\n",
       "      <td>[45.6156,  9.28111]</td>\n",
       "    </tr>\n",
       "    <tr>\n",
       "      <th>15</th>\n",
       "      <td>Indianapolis Motor Speedway</td>\n",
       "      <td>United States of America</td>\n",
       "      <td>[39.795,  -86.2347]</td>\n",
       "    </tr>\n",
       "    <tr>\n",
       "      <th>16</th>\n",
       "      <td>Suzuka Circuit</td>\n",
       "      <td>Japan</td>\n",
       "      <td>[34.8431,  136.541]</td>\n",
       "    </tr>\n",
       "  </tbody>\n",
       "</table>\n",
       "</div>"
      ],
      "text/plain": [
       "                                 0  \\\n",
       "0   Albert Park Grand Prix Circuit   \n",
       "1     Sepang International Circuit   \n",
       "2       Autodromo Jose Carlos Pace   \n",
       "3    Autodromo Enzo E Dino Ferrari   \n",
       "4   Circuit De Barcelona Catalunya   \n",
       "5                          A1 Ring   \n",
       "6                Circuit De Monaco   \n",
       "7        Circuit Gilles Villeneuve   \n",
       "8                     Nuerburgring   \n",
       "9    Circuit De Nevers Magny Cours   \n",
       "10             Silverstone Circuit   \n",
       "11                  Hockenheimring   \n",
       "12                     Hungaroring   \n",
       "13    Circuit De Spa Francorchamps   \n",
       "14    Autodromo Nazionale Di Monza   \n",
       "15     Indianapolis Motor Speedway   \n",
       "16                  Suzuka Circuit   \n",
       "\n",
       "                                                    1                      2  \n",
       "0                                           Australia   [-37.8497,  144.968]  \n",
       "1                                            Malaysia    [2.76083,  101.738]  \n",
       "2                                              Brazil  [-23.7036,  -46.6997]  \n",
       "3                                               Italy    [44.3439,  11.7167]  \n",
       "4                                               Spain      [41.57,  2.26111]  \n",
       "5                                             Austria    [47.2197,  14.7647]  \n",
       "6                                              Monaco    [43.7347,  7.42056]  \n",
       "7                                              Canada      [45.5,  -73.5228]  \n",
       "8                                             Germany     [50.3356,  6.9475]  \n",
       "9                                              France    [46.8642,  3.16361]  \n",
       "10  United Kingdom of Great Britain and Northern I...   [52.0786,  -1.01694]  \n",
       "11                                            Germany    [49.3278,  8.56583]  \n",
       "12                                            Hungary    [47.5789,  19.2486]  \n",
       "13                                            Belgium    [50.4372,  5.97139]  \n",
       "14                                              Italy    [45.6156,  9.28111]  \n",
       "15                           United States of America    [39.795,  -86.2347]  \n",
       "16                                              Japan    [34.8431,  136.541]  "
      ]
     },
     "execution_count": 8,
     "metadata": {},
     "output_type": "execute_result"
    }
   ],
   "source": [
    "pd.DataFrame(array)"
   ]
  },
  {
   "cell_type": "code",
   "execution_count": 9,
   "id": "a3282c79",
   "metadata": {},
   "outputs": [],
   "source": [
    "def circuit_row_generator(url):\n",
    "    \"\"\" This will get the driver info needed as an array\"\"\"\n",
    "    ## The yielding is done authomatically because there is\n",
    "    ## only one scrap to do in each url. ::\n",
    "\n",
    "    ## Create the sup based on the url\n",
    "    url = urlr.urlopen(url)\n",
    "    soup = BeautifulSoup(url, 'html.parser')   \n",
    "        \n",
    "        \n",
    "    ## Get the info\n",
    "    table = soup.find('table')\n",
    "    \n",
    "    name = \" \".join(soup.find('h1').text.split(' ')[:-2])\n",
    "    country = table.find_all('tr')[0].find_all('td')[1].text.strip()\n",
    "    coordinates = table.find_all('tr')[1].find_all('td')[1].text.strip().split(',')\n",
    "    coordinates = list(map(lambda x: x.strip(), coordinates))\n",
    "        \n",
    "    ## Return array with the info\n",
    "    yield [name, country, coordinates]"
   ]
  },
  {
   "cell_type": "code",
   "execution_count": 10,
   "id": "1e9bc1d8",
   "metadata": {},
   "outputs": [
    {
     "ename": "TypeError",
     "evalue": "concatenate() missing 1 required positional argument: 'arrays'",
     "output_type": "error",
     "traceback": [
      "\u001b[0;31m---------------------------------------------------------------------------\u001b[0m",
      "\u001b[0;31mTypeError\u001b[0m                                 Traceback (most recent call last)",
      "\u001b[0;32m<ipython-input-10-5cbaa739cf85>\u001b[0m in \u001b[0;36m<module>\u001b[0;34m\u001b[0m\n\u001b[0;32m----> 1\u001b[0;31m \u001b[0mnp\u001b[0m\u001b[0;34m.\u001b[0m\u001b[0mconcatenate\u001b[0m\u001b[0;34m(\u001b[0m\u001b[0;34m)\u001b[0m\u001b[0;34m\u001b[0m\u001b[0;34m\u001b[0m\u001b[0m\n\u001b[0m",
      "\u001b[0;32m<__array_function__ internals>\u001b[0m in \u001b[0;36mconcatenate\u001b[0;34m(*args, **kwargs)\u001b[0m\n",
      "\u001b[0;31mTypeError\u001b[0m: concatenate() missing 1 required positional argument: 'arrays'"
     ]
    }
   ],
   "source": [
    "np.concatenate()"
   ]
  }
 ],
 "metadata": {
  "kernelspec": {
   "display_name": "Python 3",
   "language": "python",
   "name": "python3"
  },
  "language_info": {
   "codemirror_mode": {
    "name": "ipython",
    "version": 3
   },
   "file_extension": ".py",
   "mimetype": "text/x-python",
   "name": "python",
   "nbconvert_exporter": "python",
   "pygments_lexer": "ipython3",
   "version": "3.8.8"
  }
 },
 "nbformat": 4,
 "nbformat_minor": 5
}
