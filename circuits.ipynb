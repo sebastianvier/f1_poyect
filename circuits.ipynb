{
 "cells": [
  {
   "cell_type": "code",
   "execution_count": 1,
   "id": "fbfbdc24",
   "metadata": {},
   "outputs": [],
   "source": [
    "## import modules\n",
    "import urllib.request as urlr\n",
    "import numpy as np\n",
    "import pandas as pd\n",
    "from bs4 import BeautifulSoup\n",
    "from datetime import datetime\n",
    "import bs4_functions "
   ]
  },
  {
   "cell_type": "code",
   "execution_count": 2,
   "id": "2f939994",
   "metadata": {},
   "outputs": [],
   "source": [
    "url = urlr.urlopen(\"https://www.racing-statistics.com/en/seasons\")\n",
    "soup = BeautifulSoup(url)\n",
    "rows = soup.find_all('table')[0].find_all('tr')[52:]\n",
    "season_links = [i for i in bs4_functions.season_link_gen(rows)] # Array of array with [season_name, season_url]"
   ]
  },
  {
   "cell_type": "code",
   "execution_count": 3,
   "id": "ac9a37c7",
   "metadata": {},
   "outputs": [],
   "source": [
    "season_link = season_links[0][1]"
   ]
  },
  {
   "cell_type": "code",
   "execution_count": 4,
   "id": "ed747265",
   "metadata": {},
   "outputs": [],
   "source": [
    "url = urlr.urlopen(season_link)\n",
    "soup = BeautifulSoup(url)"
   ]
  },
  {
   "cell_type": "code",
   "execution_count": 5,
   "id": "3e98016c",
   "metadata": {},
   "outputs": [
    {
     "data": {
      "text/plain": [
       "[<td>1</td>,\n",
       " <td>2001-03-04</td>,\n",
       " <td><a href=\"https://www.racing-statistics.com/en/events/2001-australian-grand-prix\">Australian Grand Prix</a></td>,\n",
       " <td class=\"nomob\"><a href=\"https://www.racing-statistics.com/en/circuits/albert-park-grand-prix-circuit\">Albert Park Grand Prix Circuit</a></td>,\n",
       " <td width=\"1\"><span class=\"flag-icon flag-icon-de\"></span></td>,\n",
       " <td><a href=\"https://www.racing-statistics.com/en/f1-drivers/michael-schumacher\">Michael Schumacher</a></td>,\n",
       " <td><a href=\"https://www.racing-statistics.com/en/f1-constructors/ferrari\">Ferrari</a></td>,\n",
       " <td class=\"nomob\">58</td>,\n",
       " <td class=\"nomob\">1:38:26.533</td>]"
      ]
     },
     "execution_count": 5,
     "metadata": {},
     "output_type": "execute_result"
    }
   ],
   "source": [
    "soup.find_all(\"table\")[1].find_all(\"tr\")[1].find_all(\"td\")"
   ]
  },
  {
   "cell_type": "code",
   "execution_count": 6,
   "id": "41b54c49",
   "metadata": {},
   "outputs": [],
   "source": [
    "array1 = []\n",
    "for i in  bs4_functions.get_links_from_table(season_link, 1, 3, verification_list=list(), \n",
    "                                             year_flag=True,s_name=False):\n",
    "        array1.append(i)"
   ]
  },
  {
   "cell_type": "code",
   "execution_count": 7,
   "id": "916c1979",
   "metadata": {},
   "outputs": [
    {
     "data": {
      "text/plain": [
       "[['Albert Park Grand Prix Circuit 2001',\n",
       "  'https://www.racing-statistics.com/en/circuits/albert-park-grand-prix-circuit'],\n",
       " ['Sepang International Circuit 2001',\n",
       "  'https://www.racing-statistics.com/en/circuits/sepang-international-circuit'],\n",
       " ['Autódromo José Carlos Pace 2001',\n",
       "  'https://www.racing-statistics.com/en/circuits/autodromo-jose-carlos-pace'],\n",
       " ['Autodromo Enzo e Dino Ferrari 2001',\n",
       "  'https://www.racing-statistics.com/en/circuits/autodromo-enzo-e-dino-ferrari'],\n",
       " ['Circuit de Barcelona-Catalunya 2001',\n",
       "  'https://www.racing-statistics.com/en/circuits/circuit-de-barcelona-catalunya'],\n",
       " ['A1-Ring 2001', 'https://www.racing-statistics.com/en/circuits/a1-ring'],\n",
       " ['Circuit de Monaco 2001',\n",
       "  'https://www.racing-statistics.com/en/circuits/circuit-de-monaco'],\n",
       " ['Circuit Gilles Villeneuve 2001',\n",
       "  'https://www.racing-statistics.com/en/circuits/circuit-gilles-villeneuve'],\n",
       " ['Nürburgring 2001',\n",
       "  'https://www.racing-statistics.com/en/circuits/nuerburgring'],\n",
       " ['Circuit de Nevers Magny-Cours 2001',\n",
       "  'https://www.racing-statistics.com/en/circuits/circuit-de-nevers-magny-cours'],\n",
       " ['Silverstone Circuit 2001',\n",
       "  'https://www.racing-statistics.com/en/circuits/silverstone-circuit'],\n",
       " ['Hockenheimring 2001',\n",
       "  'https://www.racing-statistics.com/en/circuits/hockenheimring'],\n",
       " ['Hungaroring 2001',\n",
       "  'https://www.racing-statistics.com/en/circuits/hungaroring'],\n",
       " ['Circuit de Spa-Francorchamps 2001',\n",
       "  'https://www.racing-statistics.com/en/circuits/circuit-de-spa-francorchamps'],\n",
       " ['Autodromo Nazionale di Monza 2001',\n",
       "  'https://www.racing-statistics.com/en/circuits/autodromo-nazionale-di-monza'],\n",
       " ['Indianapolis Motor Speedway 2001',\n",
       "  'https://www.racing-statistics.com/en/circuits/indianapolis-motor-speedway'],\n",
       " ['Suzuka Circuit 2001',\n",
       "  'https://www.racing-statistics.com/en/circuits/suzuka-circuit']]"
      ]
     },
     "execution_count": 7,
     "metadata": {},
     "output_type": "execute_result"
    }
   ],
   "source": [
    "array1"
   ]
  }
 ],
 "metadata": {
  "kernelspec": {
   "display_name": "Python 3",
   "language": "python",
   "name": "python3"
  },
  "language_info": {
   "codemirror_mode": {
    "name": "ipython",
    "version": 3
   },
   "file_extension": ".py",
   "mimetype": "text/x-python",
   "name": "python",
   "nbconvert_exporter": "python",
   "pygments_lexer": "ipython3",
   "version": "3.8.8"
  }
 },
 "nbformat": 4,
 "nbformat_minor": 5
}
