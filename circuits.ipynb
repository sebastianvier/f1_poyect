{
 "cells": [
  {
   "cell_type": "code",
   "execution_count": 1,
   "id": "f6d93661",
   "metadata": {},
   "outputs": [],
   "source": [
    "## import modules\n",
    "import urllib.request as urlr\n",
    "import numpy as np\n",
    "import pandas as pd\n",
    "from bs4 import BeautifulSoup\n",
    "from datetime import datetime\n",
    "import bs4_functions "
   ]
  },
  {
   "cell_type": "code",
   "execution_count": 4,
   "id": "56d085ea",
   "metadata": {},
   "outputs": [],
   "source": [
    "url = urlr.urlopen(\"https://www.racing-statistics.com/en/seasons\")\n",
    "soup = BeautifulSoup(url)\n",
    "rows = soup.find_all('table')[0].find_all('tr')[52:]\n",
    "season_links = [i for i in bs4_functions.season_link_gen(rows)] # Array of array with [season_name, season_url]"
   ]
  },
  {
   "cell_type": "markdown",
   "id": "f70a8cd8",
   "metadata": {},
   "source": [
    "### Get all the circuits urls"
   ]
  },
  {
   "cell_type": "code",
   "execution_count": 11,
   "id": "47c9d3bb",
   "metadata": {
    "scrolled": false
   },
   "outputs": [
    {
     "name": "stdout",
     "output_type": "stream",
     "text": [
      "https://www.racing-statistics.com/en/seasons/2001\n",
      "https://www.racing-statistics.com/en/seasons/2002\n",
      "https://www.racing-statistics.com/en/seasons/2003\n",
      "https://www.racing-statistics.com/en/seasons/2004\n",
      "https://www.racing-statistics.com/en/seasons/2005\n",
      "https://www.racing-statistics.com/en/seasons/2006\n",
      "https://www.racing-statistics.com/en/seasons/2007\n",
      "https://www.racing-statistics.com/en/seasons/2008\n",
      "https://www.racing-statistics.com/en/seasons/2009\n",
      "https://www.racing-statistics.com/en/seasons/2010\n",
      "https://www.racing-statistics.com/en/seasons/2011\n",
      "https://www.racing-statistics.com/en/seasons/2012\n",
      "https://www.racing-statistics.com/en/seasons/2013\n",
      "https://www.racing-statistics.com/en/seasons/2014\n",
      "https://www.racing-statistics.com/en/seasons/2015\n",
      "https://www.racing-statistics.com/en/seasons/2016\n",
      "https://www.racing-statistics.com/en/seasons/2017\n",
      "https://www.racing-statistics.com/en/seasons/2018\n",
      "https://www.racing-statistics.com/en/seasons/2019\n",
      "https://www.racing-statistics.com/en/seasons/2020\n",
      "https://www.racing-statistics.com/en/seasons/2021\n",
      "https://www.racing-statistics.com/en/seasons/2022\n"
     ]
    }
   ],
   "source": [
    "circuits_urls = []\n",
    "verification_lst = [] ## The verification has to be initialized outside the loop.\n",
    "for season in season_links:\n",
    "    url = season[1]\n",
    "    print(url)\n",
    "    table_number = 1\n",
    "    cell_position = 3\n",
    "    for i in  bs4_functions.get_links_from_table(url, table_number, cell_position, \n",
    "                                                 verification_list=verification_lst, \n",
    "                                                 year_flag=True,s_name=False):\n",
    "        circuits_urls.append(i)"
   ]
  },
  {
   "cell_type": "code",
   "execution_count": 12,
   "id": "cbd46283",
   "metadata": {},
   "outputs": [
    {
     "data": {
      "text/plain": [
       "37"
      ]
     },
     "execution_count": 12,
     "metadata": {},
     "output_type": "execute_result"
    }
   ],
   "source": [
    "len(circuits_urls)"
   ]
  },
  {
   "cell_type": "markdown",
   "id": "9066fd6b",
   "metadata": {},
   "source": [
    "### Get the circuits info"
   ]
  },
  {
   "cell_type": "code",
   "execution_count": 46,
   "id": "b83f94fa",
   "metadata": {},
   "outputs": [],
   "source": [
    "url = circuits_urls[7][1]\n",
    "url = urlr.urlopen(url)\n",
    "soup = BeautifulSoup(url, 'html.parser') "
   ]
  },
  {
   "cell_type": "code",
   "execution_count": 63,
   "id": "9a48b211",
   "metadata": {},
   "outputs": [],
   "source": []
  },
  {
   "cell_type": "code",
   "execution_count": 66,
   "id": "3a92adbb",
   "metadata": {
    "scrolled": true
   },
   "outputs": [
    {
     "data": {
      "text/plain": [
       "'\\n45.5, -73.5228\\n\\n\\n'"
      ]
     },
     "execution_count": 66,
     "metadata": {},
     "output_type": "execute_result"
    }
   ],
   "source": [
    "coordinates"
   ]
  },
  {
   "cell_type": "code",
   "execution_count": null,
   "id": "566d9876",
   "metadata": {},
   "outputs": [],
   "source": [
    "def get_driver_info(url):\n",
    "        \"\"\" This will get the driver info needed as an array\"\"\"\n",
    "\n",
    "    ## Create the sup based on the url\n",
    "    url = urlr.urlopen(url)\n",
    "    soup = BeautifulSoup(url, 'html.parser' )   \n",
    "        \n",
    "        \n",
    "    ## Get the info\n",
    "    country = soup.find('table').find_all('tr')[0].find_all('td')[1].text.strip()\n",
    "    circuit_name = \" \".join(soup.find('h1').text.split(' ')[:-2]) \n",
    "    coordinates = soup.find('table').find_all('tr')[1].find_all('td')[1].text\n",
    "        \n",
    "    ## Return array with the info\n",
    "    return [first_name, last_name, nationality, birth_date, gender]"
   ]
  }
 ],
 "metadata": {
  "kernelspec": {
   "display_name": "Python 3",
   "language": "python",
   "name": "python3"
  },
  "language_info": {
   "codemirror_mode": {
    "name": "ipython",
    "version": 3
   },
   "file_extension": ".py",
   "mimetype": "text/x-python",
   "name": "python",
   "nbconvert_exporter": "python",
   "pygments_lexer": "ipython3",
   "version": "3.8.8"
  }
 },
 "nbformat": 4,
 "nbformat_minor": 5
}
