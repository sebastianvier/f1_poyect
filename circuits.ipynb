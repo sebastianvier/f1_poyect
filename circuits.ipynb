{
 "cells": [
  {
   "cell_type": "code",
   "execution_count": 1,
   "id": "0da8e461",
   "metadata": {},
   "outputs": [],
   "source": [
    "## import modules\n",
    "import urllib.request as urlr\n",
    "import numpy as np\n",
    "import pandas as pd\n",
    "from bs4 import BeautifulSoup\n",
    "from datetime import datetime\n",
    "import bs4_functions "
   ]
  },
  {
   "cell_type": "code",
   "execution_count": 2,
   "id": "152a6b28",
   "metadata": {},
   "outputs": [],
   "source": [
    "url = urlr.urlopen(\"https://www.racing-statistics.com/en/seasons\")\n",
    "soup = BeautifulSoup(url)\n",
    "rows = soup.find_all('table')[0].find_all('tr')[52:]\n",
    "season_links = [i for i in bs4_functions.season_link_gen(rows)] # Array of array with [season_name, season_url]"
   ]
  },
  {
   "cell_type": "code",
   "execution_count": 3,
   "id": "1cacc5b3",
   "metadata": {},
   "outputs": [],
   "source": [
    "season_link = season_links[0][1]"
   ]
  },
  {
   "cell_type": "code",
   "execution_count": 4,
   "id": "60c32c23",
   "metadata": {},
   "outputs": [],
   "source": [
    "url = urlr.urlopen(season_link)\n",
    "soup = BeautifulSoup(url)"
   ]
  },
  {
   "cell_type": "code",
   "execution_count": 5,
   "id": "6559778c",
   "metadata": {},
   "outputs": [
    {
     "data": {
      "text/plain": [
       "[<td>1</td>,\n",
       " <td>2001-03-04</td>,\n",
       " <td><a href=\"https://www.racing-statistics.com/en/events/2001-australian-grand-prix\">Australian Grand Prix</a></td>,\n",
       " <td class=\"nomob\"><a href=\"https://www.racing-statistics.com/en/circuits/albert-park-grand-prix-circuit\">Albert Park Grand Prix Circuit</a></td>,\n",
       " <td width=\"1\"><span class=\"flag-icon flag-icon-de\"></span></td>,\n",
       " <td><a href=\"https://www.racing-statistics.com/en/f1-drivers/michael-schumacher\">Michael Schumacher</a></td>,\n",
       " <td><a href=\"https://www.racing-statistics.com/en/f1-constructors/ferrari\">Ferrari</a></td>,\n",
       " <td class=\"nomob\">58</td>,\n",
       " <td class=\"nomob\">1:38:26.533</td>]"
      ]
     },
     "execution_count": 5,
     "metadata": {},
     "output_type": "execute_result"
    }
   ],
   "source": [
    "soup.find_all(\"table\")[1].find_all(\"tr\")[1].find_all(\"td\")"
   ]
  },
  {
   "cell_type": "code",
   "execution_count": 10,
   "id": "3d431a1f",
   "metadata": {
    "scrolled": false
   },
   "outputs": [
    {
     "name": "stdout",
     "output_type": "stream",
     "text": [
      "https://www.racing-statistics.com/en/seasons/2001\n",
      "False\n",
      "False\n",
      "False\n",
      "False\n",
      "False\n",
      "False\n",
      "False\n",
      "False\n",
      "False\n",
      "False\n",
      "False\n",
      "False\n",
      "False\n",
      "False\n",
      "False\n",
      "False\n",
      "False\n",
      "https://www.racing-statistics.com/en/seasons/2002\n",
      "False\n",
      "False\n",
      "False\n",
      "False\n",
      "False\n",
      "False\n",
      "False\n",
      "False\n",
      "False\n",
      "False\n",
      "False\n",
      "False\n",
      "False\n",
      "False\n",
      "False\n",
      "False\n",
      "False\n"
     ]
    }
   ],
   "source": [
    "cicuits_urls = []\n",
    "for season in season_links[:2]:\n",
    "    url = season[1]\n",
    "    print(url)\n",
    "    table_number = 1\n",
    "    cell_position = 3\n",
    "    for i in  bs4_functions.get_links_from_table(url, table_number, cell_position, verification_list=list(), \n",
    "                                                 year_flag=True,s_name=False):\n",
    "        cicuits_urls.append(i)"
   ]
  },
  {
   "cell_type": "code",
   "execution_count": 7,
   "id": "e5c7b15a",
   "metadata": {},
   "outputs": [
    {
     "data": {
      "text/plain": [
       "50"
      ]
     },
     "execution_count": 7,
     "metadata": {},
     "output_type": "execute_result"
    }
   ],
   "source": [
    "len(cicuits_urls)"
   ]
  },
  {
   "cell_type": "code",
   "execution_count": 8,
   "id": "11a37e74",
   "metadata": {},
   "outputs": [
    {
     "data": {
      "text/html": [
       "<div>\n",
       "<style scoped>\n",
       "    .dataframe tbody tr th:only-of-type {\n",
       "        vertical-align: middle;\n",
       "    }\n",
       "\n",
       "    .dataframe tbody tr th {\n",
       "        vertical-align: top;\n",
       "    }\n",
       "\n",
       "    .dataframe thead th {\n",
       "        text-align: right;\n",
       "    }\n",
       "</style>\n",
       "<table border=\"1\" class=\"dataframe\">\n",
       "  <thead>\n",
       "    <tr style=\"text-align: right;\">\n",
       "      <th></th>\n",
       "      <th>0</th>\n",
       "      <th>1</th>\n",
       "    </tr>\n",
       "  </thead>\n",
       "  <tbody>\n",
       "    <tr>\n",
       "      <th>0</th>\n",
       "      <td>Albert Park Grand Prix Circuit 2001</td>\n",
       "      <td>https://www.racing-statistics.com/en/circuits/...</td>\n",
       "    </tr>\n",
       "    <tr>\n",
       "      <th>1</th>\n",
       "      <td>Sepang International Circuit 2001</td>\n",
       "      <td>https://www.racing-statistics.com/en/circuits/...</td>\n",
       "    </tr>\n",
       "    <tr>\n",
       "      <th>2</th>\n",
       "      <td>Autódromo José Carlos Pace 2001</td>\n",
       "      <td>https://www.racing-statistics.com/en/circuits/...</td>\n",
       "    </tr>\n",
       "    <tr>\n",
       "      <th>3</th>\n",
       "      <td>Autodromo Enzo e Dino Ferrari 2001</td>\n",
       "      <td>https://www.racing-statistics.com/en/circuits/...</td>\n",
       "    </tr>\n",
       "    <tr>\n",
       "      <th>4</th>\n",
       "      <td>Circuit de Barcelona-Catalunya 2001</td>\n",
       "      <td>https://www.racing-statistics.com/en/circuits/...</td>\n",
       "    </tr>\n",
       "    <tr>\n",
       "      <th>5</th>\n",
       "      <td>A1-Ring 2001</td>\n",
       "      <td>https://www.racing-statistics.com/en/circuits/...</td>\n",
       "    </tr>\n",
       "    <tr>\n",
       "      <th>6</th>\n",
       "      <td>Circuit de Monaco 2001</td>\n",
       "      <td>https://www.racing-statistics.com/en/circuits/...</td>\n",
       "    </tr>\n",
       "    <tr>\n",
       "      <th>7</th>\n",
       "      <td>Circuit Gilles Villeneuve 2001</td>\n",
       "      <td>https://www.racing-statistics.com/en/circuits/...</td>\n",
       "    </tr>\n",
       "    <tr>\n",
       "      <th>8</th>\n",
       "      <td>Nürburgring 2001</td>\n",
       "      <td>https://www.racing-statistics.com/en/circuits/...</td>\n",
       "    </tr>\n",
       "    <tr>\n",
       "      <th>9</th>\n",
       "      <td>Circuit de Nevers Magny-Cours 2001</td>\n",
       "      <td>https://www.racing-statistics.com/en/circuits/...</td>\n",
       "    </tr>\n",
       "    <tr>\n",
       "      <th>10</th>\n",
       "      <td>Silverstone Circuit 2001</td>\n",
       "      <td>https://www.racing-statistics.com/en/circuits/...</td>\n",
       "    </tr>\n",
       "    <tr>\n",
       "      <th>11</th>\n",
       "      <td>Hockenheimring 2001</td>\n",
       "      <td>https://www.racing-statistics.com/en/circuits/...</td>\n",
       "    </tr>\n",
       "    <tr>\n",
       "      <th>12</th>\n",
       "      <td>Hungaroring 2001</td>\n",
       "      <td>https://www.racing-statistics.com/en/circuits/...</td>\n",
       "    </tr>\n",
       "    <tr>\n",
       "      <th>13</th>\n",
       "      <td>Circuit de Spa-Francorchamps 2001</td>\n",
       "      <td>https://www.racing-statistics.com/en/circuits/...</td>\n",
       "    </tr>\n",
       "    <tr>\n",
       "      <th>14</th>\n",
       "      <td>Autodromo Nazionale di Monza 2001</td>\n",
       "      <td>https://www.racing-statistics.com/en/circuits/...</td>\n",
       "    </tr>\n",
       "    <tr>\n",
       "      <th>15</th>\n",
       "      <td>Indianapolis Motor Speedway 2001</td>\n",
       "      <td>https://www.racing-statistics.com/en/circuits/...</td>\n",
       "    </tr>\n",
       "    <tr>\n",
       "      <th>16</th>\n",
       "      <td>Suzuka Circuit 2001</td>\n",
       "      <td>https://www.racing-statistics.com/en/circuits/...</td>\n",
       "    </tr>\n",
       "  </tbody>\n",
       "</table>\n",
       "</div>"
      ],
      "text/plain": [
       "                                      0  \\\n",
       "0   Albert Park Grand Prix Circuit 2001   \n",
       "1     Sepang International Circuit 2001   \n",
       "2       Autódromo José Carlos Pace 2001   \n",
       "3    Autodromo Enzo e Dino Ferrari 2001   \n",
       "4   Circuit de Barcelona-Catalunya 2001   \n",
       "5                          A1-Ring 2001   \n",
       "6                Circuit de Monaco 2001   \n",
       "7        Circuit Gilles Villeneuve 2001   \n",
       "8                      Nürburgring 2001   \n",
       "9    Circuit de Nevers Magny-Cours 2001   \n",
       "10             Silverstone Circuit 2001   \n",
       "11                  Hockenheimring 2001   \n",
       "12                     Hungaroring 2001   \n",
       "13    Circuit de Spa-Francorchamps 2001   \n",
       "14    Autodromo Nazionale di Monza 2001   \n",
       "15     Indianapolis Motor Speedway 2001   \n",
       "16                  Suzuka Circuit 2001   \n",
       "\n",
       "                                                    1  \n",
       "0   https://www.racing-statistics.com/en/circuits/...  \n",
       "1   https://www.racing-statistics.com/en/circuits/...  \n",
       "2   https://www.racing-statistics.com/en/circuits/...  \n",
       "3   https://www.racing-statistics.com/en/circuits/...  \n",
       "4   https://www.racing-statistics.com/en/circuits/...  \n",
       "5   https://www.racing-statistics.com/en/circuits/...  \n",
       "6   https://www.racing-statistics.com/en/circuits/...  \n",
       "7   https://www.racing-statistics.com/en/circuits/...  \n",
       "8   https://www.racing-statistics.com/en/circuits/...  \n",
       "9   https://www.racing-statistics.com/en/circuits/...  \n",
       "10  https://www.racing-statistics.com/en/circuits/...  \n",
       "11  https://www.racing-statistics.com/en/circuits/...  \n",
       "12  https://www.racing-statistics.com/en/circuits/...  \n",
       "13  https://www.racing-statistics.com/en/circuits/...  \n",
       "14  https://www.racing-statistics.com/en/circuits/...  \n",
       "15  https://www.racing-statistics.com/en/circuits/...  \n",
       "16  https://www.racing-statistics.com/en/circuits/...  "
      ]
     },
     "execution_count": 8,
     "metadata": {},
     "output_type": "execute_result"
    }
   ],
   "source": [
    "## Delete duplicate, the duplicates are found in the url \n",
    "df = pd.DataFrame(np.array(cicuits_urls))\n",
    "df.drop_duplicates(subset=[1])\n"
   ]
  }
 ],
 "metadata": {
  "kernelspec": {
   "display_name": "Python 3",
   "language": "python",
   "name": "python3"
  },
  "language_info": {
   "codemirror_mode": {
    "name": "ipython",
    "version": 3
   },
   "file_extension": ".py",
   "mimetype": "text/x-python",
   "name": "python",
   "nbconvert_exporter": "python",
   "pygments_lexer": "ipython3",
   "version": "3.8.8"
  }
 },
 "nbformat": 4,
 "nbformat_minor": 5
}
