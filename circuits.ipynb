{
 "cells": [
  {
   "cell_type": "code",
   "execution_count": null,
   "id": "790ccaee",
   "metadata": {},
   "outputs": [],
   "source": [
    "## import modules\n",
    "import urllib.request as urlr\n",
    "import numpy as np\n",
    "import pandas as pd\n",
    "from bs4 import BeautifulSoup\n",
    "from datetime import datetime\n",
    "import bs4_functions "
   ]
  },
  {
   "cell_type": "code",
   "execution_count": null,
   "id": "8ee2a0b4",
   "metadata": {},
   "outputs": [],
   "source": [
    "url = urlr.urlopen(\"https://www.racing-statistics.com/en/seasons\")\n",
    "soup = BeautifulSoup(url)\n",
    "rows = soup.find_all('table')[0].find_all('tr')[52:]\n",
    "season_links = [i for i in bs4_functions.season_link_gen(rows)] # Array of array with [season_name, season_url]"
   ]
  },
  {
   "cell_type": "code",
   "execution_count": null,
   "id": "c825b7aa",
   "metadata": {},
   "outputs": [],
   "source": [
    "season_link = season_links[0][1]"
   ]
  },
  {
   "cell_type": "code",
   "execution_count": null,
   "id": "db7d6982",
   "metadata": {},
   "outputs": [],
   "source": [
    "url = urlr.urlopen(season_link)\n",
    "soup = BeautifulSoup(url)"
   ]
  },
  {
   "cell_type": "code",
   "execution_count": null,
   "id": "f6486b94",
   "metadata": {},
   "outputs": [],
   "source": [
    "soup.find_all(\"table\")[1].find_all(\"tr\")[1].find_all(\"td\")"
   ]
  },
  {
   "cell_type": "code",
   "execution_count": null,
   "id": "5fdd45ea",
   "metadata": {},
   "outputs": [],
   "source": [
    "array1 = []\n",
    "for i in  bs4_functions.get_links_from_table(season_link, 1, 3, verification_list=list(), \n",
    "                                             year_flag=True,s_name=False):\n",
    "        array1.append(i)"
   ]
  }
 ],
 "metadata": {
  "kernelspec": {
   "display_name": "Python 3",
   "language": "python",
   "name": "python3"
  },
  "language_info": {
   "codemirror_mode": {
    "name": "ipython",
    "version": 3
   },
   "file_extension": ".py",
   "mimetype": "text/x-python",
   "name": "python",
   "nbconvert_exporter": "python",
   "pygments_lexer": "ipython3",
   "version": "3.8.8"
  }
 },
 "nbformat": 4,
 "nbformat_minor": 5
}
