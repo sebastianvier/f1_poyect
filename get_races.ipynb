{
 "cells": [
  {
   "cell_type": "code",
   "execution_count": 1,
   "id": "e72d8c9f",
   "metadata": {},
   "outputs": [],
   "source": [
    "## import modules\n",
    "import urllib.request as urlr\n",
    "import numpy as np\n",
    "import pandas as pd\n",
    "from bs4 import BeautifulSoup\n",
    "from datetime import datetime\n",
    "\n",
    "import bs4_functions \n",
    "\n",
    "from bs4_functions import get_races"
   ]
  },
  {
   "cell_type": "code",
   "execution_count": 7,
   "id": "542d0798",
   "metadata": {
    "scrolled": true
   },
   "outputs": [
    {
     "name": "stdout",
     "output_type": "stream",
     "text": [
      "https://www.racing-statistics.com/en/seasons/2001\n",
      "https://www.racing-statistics.com/en/seasons/2002\n",
      "https://www.racing-statistics.com/en/seasons/2003\n",
      "https://www.racing-statistics.com/en/seasons/2004\n",
      "https://www.racing-statistics.com/en/seasons/2005\n",
      "https://www.racing-statistics.com/en/seasons/2006\n",
      "https://www.racing-statistics.com/en/seasons/2007\n",
      "https://www.racing-statistics.com/en/seasons/2008\n",
      "https://www.racing-statistics.com/en/seasons/2009\n",
      "https://www.racing-statistics.com/en/seasons/2010\n",
      "https://www.racing-statistics.com/en/seasons/2011\n",
      "https://www.racing-statistics.com/en/seasons/2012\n",
      "https://www.racing-statistics.com/en/seasons/2013\n",
      "https://www.racing-statistics.com/en/seasons/2014\n",
      "https://www.racing-statistics.com/en/seasons/2015\n",
      "https://www.racing-statistics.com/en/seasons/2016\n",
      "https://www.racing-statistics.com/en/seasons/2017\n",
      "https://www.racing-statistics.com/en/seasons/2018\n",
      "https://www.racing-statistics.com/en/seasons/2019\n",
      "https://www.racing-statistics.com/en/seasons/2020\n",
      "https://www.racing-statistics.com/en/seasons/2021\n"
     ]
    }
   ],
   "source": [
    "url = urlr.urlopen(\"https://www.racing-statistics.com/en/seasons\")\n",
    "soup = BeautifulSoup(url)\n",
    "rows = soup.find_all('table')[0].find_all('tr')[52:]\n",
    "# The 2001 season is the 52nd season. So we create an array called rows from there on.\n",
    "\n",
    "            \n",
    "season_links = [i for i in bs4_functions.season_link_gen(rows)] # Array of array with [season_name, season_url]\n",
    "\n",
    "## table_number 1, cell position 2\n",
    "races_urls = []\n",
    "for season in season_links[:-1]: ## Just to not add 2022\n",
    "    url = season[1]\n",
    "    print(url)\n",
    "    table_number = 1\n",
    "    cell_position = 2\n",
    "    for i in  bs4_functions.get_links_from_table(url, table_number, cell_position, verification_list=[], year_flag=True,s_name=False):\n",
    "        races_urls.append(i)"
   ]
  },
  {
   "cell_type": "code",
   "execution_count": 10,
   "id": "2f6ca355",
   "metadata": {},
   "outputs": [],
   "source": [
    "data = pd.DataFrame([i for i in get_races(races_urls)])"
   ]
  },
  {
   "cell_type": "code",
   "execution_count": 13,
   "id": "03002800",
   "metadata": {},
   "outputs": [
    {
     "name": "stdout",
     "output_type": "stream",
     "text": [
      "circuits.csv     drivers.csv      results.csv\r\n",
      "constructors.csv grid.csv\r\n"
     ]
    }
   ],
   "source": [
    "! ls data"
   ]
  },
  {
   "cell_type": "code",
   "execution_count": 14,
   "id": "e611799d",
   "metadata": {},
   "outputs": [],
   "source": [
    "data.to_csv('data/races.csv', index=False)"
   ]
  },
  {
   "cell_type": "code",
   "execution_count": 15,
   "id": "f8886857",
   "metadata": {},
   "outputs": [
    {
     "data": {
      "text/html": [
       "<div>\n",
       "<style scoped>\n",
       "    .dataframe tbody tr th:only-of-type {\n",
       "        vertical-align: middle;\n",
       "    }\n",
       "\n",
       "    .dataframe tbody tr th {\n",
       "        vertical-align: top;\n",
       "    }\n",
       "\n",
       "    .dataframe thead th {\n",
       "        text-align: right;\n",
       "    }\n",
       "</style>\n",
       "<table border=\"1\" class=\"dataframe\">\n",
       "  <thead>\n",
       "    <tr style=\"text-align: right;\">\n",
       "      <th></th>\n",
       "      <th>0</th>\n",
       "      <th>1</th>\n",
       "      <th>2</th>\n",
       "    </tr>\n",
       "  </thead>\n",
       "  <tbody>\n",
       "    <tr>\n",
       "      <th>0</th>\n",
       "      <td>Australian Grand Prix 2001</td>\n",
       "      <td>Albert Park Grand Prix Circuit</td>\n",
       "      <td>2001-03-04</td>\n",
       "    </tr>\n",
       "    <tr>\n",
       "      <th>1</th>\n",
       "      <td>Malaysian Grand Prix 2001</td>\n",
       "      <td>Sepang International Circuit</td>\n",
       "      <td>2001-03-18</td>\n",
       "    </tr>\n",
       "    <tr>\n",
       "      <th>2</th>\n",
       "      <td>Brazilian Grand Prix 2001</td>\n",
       "      <td>Autódromo José Carlos Pace</td>\n",
       "      <td>2001-04-01</td>\n",
       "    </tr>\n",
       "    <tr>\n",
       "      <th>3</th>\n",
       "      <td>San Marino Grand Prix 2001</td>\n",
       "      <td>Autodromo Enzo e Dino Ferrari</td>\n",
       "      <td>2001-04-15</td>\n",
       "    </tr>\n",
       "    <tr>\n",
       "      <th>4</th>\n",
       "      <td>Spanish Grand Prix 2001</td>\n",
       "      <td>Circuit de Barcelona-Catalunya</td>\n",
       "      <td>2001-04-29</td>\n",
       "    </tr>\n",
       "    <tr>\n",
       "      <th>...</th>\n",
       "      <td>...</td>\n",
       "      <td>...</td>\n",
       "      <td>...</td>\n",
       "    </tr>\n",
       "    <tr>\n",
       "      <th>389</th>\n",
       "      <td>Mexico City Grand Prix 2021</td>\n",
       "      <td>Autódromo Hermanos Rodríguez</td>\n",
       "      <td>2021-11-07</td>\n",
       "    </tr>\n",
       "    <tr>\n",
       "      <th>390</th>\n",
       "      <td>São Paulo Grand Prix 2021</td>\n",
       "      <td>Autódromo José Carlos Pace</td>\n",
       "      <td>2021-11-14</td>\n",
       "    </tr>\n",
       "    <tr>\n",
       "      <th>391</th>\n",
       "      <td>Qatar Grand Prix 2021</td>\n",
       "      <td>Losail International Circuit</td>\n",
       "      <td>2021-11-21</td>\n",
       "    </tr>\n",
       "    <tr>\n",
       "      <th>392</th>\n",
       "      <td>Saudi Arabian Grand Prix 2021</td>\n",
       "      <td>Jeddah Corniche Circuit</td>\n",
       "      <td>2021-12-05</td>\n",
       "    </tr>\n",
       "    <tr>\n",
       "      <th>393</th>\n",
       "      <td>Abu Dhabi Grand Prix 2021</td>\n",
       "      <td>Yas Marina Circuit</td>\n",
       "      <td>2021-12-12</td>\n",
       "    </tr>\n",
       "  </tbody>\n",
       "</table>\n",
       "<p>394 rows × 3 columns</p>\n",
       "</div>"
      ],
      "text/plain": [
       "                                 0                               1           2\n",
       "0       Australian Grand Prix 2001  Albert Park Grand Prix Circuit  2001-03-04\n",
       "1        Malaysian Grand Prix 2001    Sepang International Circuit  2001-03-18\n",
       "2        Brazilian Grand Prix 2001      Autódromo José Carlos Pace  2001-04-01\n",
       "3       San Marino Grand Prix 2001   Autodromo Enzo e Dino Ferrari  2001-04-15\n",
       "4          Spanish Grand Prix 2001  Circuit de Barcelona-Catalunya  2001-04-29\n",
       "..                             ...                             ...         ...\n",
       "389    Mexico City Grand Prix 2021    Autódromo Hermanos Rodríguez  2021-11-07\n",
       "390      São Paulo Grand Prix 2021      Autódromo José Carlos Pace  2021-11-14\n",
       "391          Qatar Grand Prix 2021    Losail International Circuit  2021-11-21\n",
       "392  Saudi Arabian Grand Prix 2021         Jeddah Corniche Circuit  2021-12-05\n",
       "393      Abu Dhabi Grand Prix 2021              Yas Marina Circuit  2021-12-12\n",
       "\n",
       "[394 rows x 3 columns]"
      ]
     },
     "execution_count": 15,
     "metadata": {},
     "output_type": "execute_result"
    }
   ],
   "source": [
    "pd.read_csv('data/races.csv')"
   ]
  }
 ],
 "metadata": {
  "kernelspec": {
   "display_name": "Python 3",
   "language": "python",
   "name": "python3"
  },
  "language_info": {
   "codemirror_mode": {
    "name": "ipython",
    "version": 3
   },
   "file_extension": ".py",
   "mimetype": "text/x-python",
   "name": "python",
   "nbconvert_exporter": "python",
   "pygments_lexer": "ipython3",
   "version": "3.8.8"
  }
 },
 "nbformat": 4,
 "nbformat_minor": 5
}
