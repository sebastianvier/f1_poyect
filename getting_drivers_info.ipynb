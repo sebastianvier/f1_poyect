{
 "cells": [
  {
   "cell_type": "code",
   "execution_count": 5,
   "id": "eb9d6319",
   "metadata": {},
   "outputs": [],
   "source": [
    "## import modules\n",
    "import urllib.request as urlr\n",
    "import numpy as np\n",
    "import pandas as pd\n",
    "from bs4 import BeautifulSoup\n",
    "from datetime import datetime\n",
    "\n",
    "import bs4_functions "
   ]
  },
  {
   "cell_type": "markdown",
   "id": "5b606638",
   "metadata": {},
   "source": [
    "So the two drivers who have been the most time in formula one in the current grid are Fernando Alonso and Kimi Raikkonen. We will begin considering pilots then from that championship on 2001."
   ]
  },
  {
   "cell_type": "markdown",
   "id": "eb8885d5",
   "metadata": {},
   "source": [
    "## 1. Get drivers info"
   ]
  },
  {
   "cell_type": "markdown",
   "id": "23d29fcb",
   "metadata": {},
   "source": [
    "This process is divided in 4 steps:\n",
    "    <br>1) Get all seasons urls\n",
    "    <br>2) Get all drivers urls\n",
    "    <br>3) Get all drivers info\n",
    "    <br>4) Exporting info into a csv"
   ]
  },
  {
   "cell_type": "markdown",
   "id": "3f5b6ff8",
   "metadata": {},
   "source": [
    "### 1 Get all the seasons urls"
   ]
  },
  {
   "cell_type": "code",
   "execution_count": 6,
   "id": "8e990e5d",
   "metadata": {},
   "outputs": [],
   "source": [
    "url = urlr.urlopen(\"https://www.racing-statistics.com/en/seasons\")\n",
    "soup = BeautifulSoup(url)\n",
    "rows = soup.find_all('table')[0].find_all('tr')[52:]\n",
    "# The 2001 season is the 52nd season. So we create an array called rows from there on.\n",
    "\n",
    "            \n",
    "season_links = [i for i in bs4_functions.season_link_gen(rows)] # Array of array with [season_name, season_url]"
   ]
  },
  {
   "cell_type": "code",
   "execution_count": 7,
   "id": "dcd041cc",
   "metadata": {
    "scrolled": false
   },
   "outputs": [
    {
     "data": {
      "text/plain": [
       "[['Season 2001', 'https://www.racing-statistics.com/en/seasons/2001'],\n",
       " ['Season 2002', 'https://www.racing-statistics.com/en/seasons/2002'],\n",
       " ['Season 2003', 'https://www.racing-statistics.com/en/seasons/2003'],\n",
       " ['Season 2004', 'https://www.racing-statistics.com/en/seasons/2004'],\n",
       " ['Season 2005', 'https://www.racing-statistics.com/en/seasons/2005'],\n",
       " ['Season 2006', 'https://www.racing-statistics.com/en/seasons/2006'],\n",
       " ['Season 2007', 'https://www.racing-statistics.com/en/seasons/2007'],\n",
       " ['Season 2008', 'https://www.racing-statistics.com/en/seasons/2008'],\n",
       " ['Season 2009', 'https://www.racing-statistics.com/en/seasons/2009'],\n",
       " ['Season 2010', 'https://www.racing-statistics.com/en/seasons/2010'],\n",
       " ['Season 2011', 'https://www.racing-statistics.com/en/seasons/2011'],\n",
       " ['Season 2012', 'https://www.racing-statistics.com/en/seasons/2012'],\n",
       " ['Season 2013', 'https://www.racing-statistics.com/en/seasons/2013'],\n",
       " ['Season 2014', 'https://www.racing-statistics.com/en/seasons/2014'],\n",
       " ['Season 2015', 'https://www.racing-statistics.com/en/seasons/2015'],\n",
       " ['Season 2016', 'https://www.racing-statistics.com/en/seasons/2016'],\n",
       " ['Season 2017', 'https://www.racing-statistics.com/en/seasons/2017'],\n",
       " ['Season 2018', 'https://www.racing-statistics.com/en/seasons/2018'],\n",
       " ['Season 2019', 'https://www.racing-statistics.com/en/seasons/2019'],\n",
       " ['Season 2020', 'https://www.racing-statistics.com/en/seasons/2020'],\n",
       " ['Season 2021', 'https://www.racing-statistics.com/en/seasons/2021']]"
      ]
     },
     "execution_count": 7,
     "metadata": {},
     "output_type": "execute_result"
    }
   ],
   "source": [
    "season_links"
   ]
  },
  {
   "cell_type": "markdown",
   "id": "1413b5c4",
   "metadata": {},
   "source": [
    "### 2. Get all Drivers Urls\n",
    " The first thing we are going to do is get all the drivers urls. For this we are going to enter all the seasons and find get the urls of the drivers."
   ]
  },
  {
   "cell_type": "markdown",
   "id": "5ce390e5",
   "metadata": {},
   "source": [
    "#### Get all drivers urls for the first 10 seasons"
   ]
  },
  {
   "cell_type": "code",
   "execution_count": 8,
   "id": "1617fb2a",
   "metadata": {
    "scrolled": false
   },
   "outputs": [
    {
     "name": "stdout",
     "output_type": "stream",
     "text": [
      "https://www.racing-statistics.com/en/seasons/2001\n",
      "Michael Schumacher\n",
      "David Coulthard\n",
      "Rubens Barrichello\n",
      "Ralf Schumacher\n",
      "Mika Häkkinen\n",
      "Juan Pablo Montoya\n",
      "Jarno Trulli\n",
      "Jacques Villeneuve\n",
      "Nick Heidfeld\n",
      "Kimi Räikkönen\n",
      "Giancarlo Fisichella\n",
      "Eddie Irvine\n",
      "Heinz-Harald Frentzen\n",
      "Olivier Panis\n",
      "Jean Alesi\n",
      "Pedro de la Rosa\n",
      "Jenson Button\n",
      "Jos Verstappen\n",
      "Enrique Bernoldi\n",
      "Fernando Alonso\n",
      "Tarso Marques\n",
      "Luciano Burti\n",
      "Gastón Mazzacane\n",
      "Alex Yoong\n",
      "Tomáš Enge\n",
      "Ricardo Zonta\n",
      "https://www.racing-statistics.com/en/seasons/2002\n",
      "Felipe Massa\n",
      "Takuma Sato\n",
      "Mark Webber\n",
      "Mika Salo\n",
      "Allan McNish\n",
      "Anthony Davidson\n",
      "https://www.racing-statistics.com/en/seasons/2003\n",
      "Cristiano da Matta\n",
      "Marc Gené\n",
      "Justin Wilson\n",
      "Ralph Firman\n",
      "Antônio Pizzonia\n",
      "Nicolas Kiesa\n",
      "Zsolt Baumgartner\n",
      "https://www.racing-statistics.com/en/seasons/2004\n",
      "Christian Klien\n",
      "Timo Glock\n",
      "Gianmaria Bruni\n",
      "Giorgio Pantano\n",
      "https://www.racing-statistics.com/en/seasons/2005\n",
      "Tiago Monteiro\n",
      "Alexander Wurz\n",
      "Narain Karthikeyan\n",
      "Christijan Albers\n",
      "Patrick Friesacher\n",
      "Vitantonio Liuzzi\n",
      "Robert Doornbos\n",
      "https://www.racing-statistics.com/en/seasons/2006\n",
      "Robert Kubica\n",
      "Nico Rosberg\n",
      "Scott Speed\n",
      "Sakon Yamamoto\n",
      "Franck Montagny\n",
      "Yuji Ide\n",
      "https://www.racing-statistics.com/en/seasons/2007\n",
      "Lewis Hamilton\n",
      "Heikki Kovalainen\n",
      "Sebastian Vettel\n",
      "Adrian Sutil\n",
      "Markus Winkelhock\n",
      "Kazuki Nakajima\n",
      "https://www.racing-statistics.com/en/seasons/2008\n",
      "Nelson Piquet Jr.\n",
      "Sébastien Bourdais\n",
      "https://www.racing-statistics.com/en/seasons/2009\n",
      "Sébastien Buemi\n",
      "Kamui Kobayashi\n",
      "Jaime Alguersuari\n",
      "Romain Grosjean\n",
      "Luca Badoer\n",
      "https://www.racing-statistics.com/en/seasons/2010\n",
      "Vitaly Petrov\n",
      "Nico Hülkenberg\n",
      "Lucas di Grassi\n",
      "Bruno Senna\n",
      "Karun Chandhok\n"
     ]
    }
   ],
   "source": [
    "# Declaring the variables that are going to be used for\n",
    "drivers_links = []\n",
    "drivers_names = [] # I need a verification list.\n",
    "table_number = 0 # In every case it is the first season\n",
    "cell_position = 2 # In every case it is the 2 cell were we find the url.\n",
    "\n",
    "\n",
    "for season in season_links[:10]:\n",
    "    url = season[1] # season[0] is the name of the season\n",
    "    print(url)\n",
    "    for i in bs4_functions.get_links_from_table(url, table_number, cell_position, v_list=drivers_names):\n",
    "        # this will modify the value while getting what we are looking for.\n",
    "        drivers_links.append(i)"
   ]
  },
  {
   "cell_type": "markdown",
   "id": "8ca1cc05",
   "metadata": {},
   "source": [
    "#### Get all drivers urls from the other seasons"
   ]
  },
  {
   "cell_type": "code",
   "execution_count": 9,
   "id": "d7cb1959",
   "metadata": {},
   "outputs": [
    {
     "name": "stdout",
     "output_type": "stream",
     "text": [
      "https://www.racing-statistics.com/en/seasons/2011\n",
      "Paul di Resta\n",
      "Sergio Pérez\n",
      "Pastor Maldonado\n",
      "Jérôme d'Ambrosio\n",
      "Daniel Ricciardo\n",
      "https://www.racing-statistics.com/en/seasons/2012\n",
      "Jean-Éric Vergne\n",
      "Charles Pic\n",
      "https://www.racing-statistics.com/en/seasons/2013\n",
      "Esteban Gutiérrez\n",
      "Valtteri Bottas\n",
      "Jules Bianchi\n",
      "Max Chilton\n",
      "Giedo van der Garde\n",
      "https://www.racing-statistics.com/en/seasons/2014\n",
      "Kevin Magnussen\n",
      "Daniil Kvyat\n",
      "Marcus Ericsson\n",
      "André Lotterer\n",
      "Will Stevens\n",
      "https://www.racing-statistics.com/en/seasons/2015\n",
      "Max Verstappen\n",
      "Felipe Nasr\n",
      "Carlos Sainz\n",
      "Roberto Merhi\n",
      "Alexander Rossi\n",
      "https://www.racing-statistics.com/en/seasons/2016\n",
      "Jolyon Palmer\n",
      "Pascal Wehrlein\n",
      "Stoffel Vandoorne\n",
      "Rio Haryanto\n",
      "Esteban Ocon\n",
      "https://www.racing-statistics.com/en/seasons/2017\n",
      "Lance Stroll\n",
      "Pierre Gasly\n",
      "Brendon Hartley\n",
      "Antonio Giovinazzi\n",
      "https://www.racing-statistics.com/en/seasons/2018\n",
      "Charles Leclerc\n",
      "Sergey Sirotkin\n",
      "https://www.racing-statistics.com/en/seasons/2019\n",
      "Alexander Albon\n",
      "Lando Norris\n",
      "George Russell\n",
      "https://www.racing-statistics.com/en/seasons/2020\n",
      "Nicholas Latifi\n",
      "Pietro Fittipaldi\n",
      "Jack Aitken\n",
      "https://www.racing-statistics.com/en/seasons/2021\n",
      "Yuki Tsunoda\n",
      "Mick Schumacher\n",
      "Nikita Mazepin\n"
     ]
    }
   ],
   "source": [
    "for season in season_links[10:]:\n",
    "    url = season[1]\n",
    "    print(url)\n",
    "    table_number = 0\n",
    "    cell_position = 2\n",
    "    for i in bs4_functions.get_links_from_table(url, table_number, cell_position, drivers_names):\n",
    "        drivers_links.append(i)"
   ]
  },
  {
   "cell_type": "code",
   "execution_count": 6,
   "id": "6d0350df",
   "metadata": {},
   "outputs": [
    {
     "data": {
      "text/plain": [
       "116"
      ]
     },
     "execution_count": 6,
     "metadata": {},
     "output_type": "execute_result"
    }
   ],
   "source": [
    "len(drivers_links)"
   ]
  },
  {
   "cell_type": "markdown",
   "id": "b4cc7bf9",
   "metadata": {},
   "source": [
    "### 3. Get Drivers Info"
   ]
  },
  {
   "cell_type": "code",
   "execution_count": 7,
   "id": "a2ce90aa",
   "metadata": {
    "scrolled": true
   },
   "outputs": [],
   "source": [
    "# url_array = [i[1] for i in drivers_links[:20]]\n",
    "# s1 = pd.DataFrame([i for i in driver_row_generator(url_array)])\n",
    "\n",
    "\n",
    "# url_array = [i[1] for i in drivers_links[20:40]]\n",
    "# s2 = pd.DataFrame([i for i in driver_row_generator(url_array)])\n",
    "\n",
    "\n",
    "# url_array = [i[1] for i in drivers_links[40:60]]\n",
    "# s3 = pd.DataFrame([i for i in driver_row_generator(url_array)])\n",
    "# print('s3 done')\n",
    "\n",
    "\n",
    "# url_array = [i[1] for i in drivers_links[60:80]]\n",
    "# s4 = pd.DataFrame([i for i in driver_row_generator(url_array)])\n",
    "# print('s4 done')\n",
    "\n",
    "# url_array = [i[1] for i in drivers_links[80:100]]\n",
    "# s5 = pd.DataFrame([i for i in bs4_functions.driver_row_generator(url_array)])\n",
    "# print('s5 done')\n",
    "\n",
    "# url_array = [i[1] for i in drivers_links[100:120]]\n",
    "# s6 = pd.DataFrame([i for i in bs4_functions.driver_row_generator(url_array)])\n",
    "# print('s6 done')"
   ]
  },
  {
   "cell_type": "markdown",
   "id": "4635c355",
   "metadata": {},
   "source": [
    "### 4. Export to csv"
   ]
  },
  {
   "cell_type": "code",
   "execution_count": 8,
   "id": "33bd843d",
   "metadata": {},
   "outputs": [],
   "source": [
    "## This next code will concatenate the whole info of drivers, fix issues and\n",
    "## then turn it into a csv file.\n",
    "\n",
    "# drivers = pd.concat([s1,s2,s3,s4,s5,s6], axis=0)\n",
    "# drivers.columns = ['first_name last_name nationality birth_date gender'.split()]\n",
    "# drivers.reset_index(inplace=True, drop=True)\n",
    "# display(drivers.head())\n",
    "# # drivers.to_csv('drivers_info.csv', index=False )"
   ]
  }
 ],
 "metadata": {
  "kernelspec": {
   "display_name": "Python 3",
   "language": "python",
   "name": "python3"
  },
  "language_info": {
   "codemirror_mode": {
    "name": "ipython",
    "version": 3
   },
   "file_extension": ".py",
   "mimetype": "text/x-python",
   "name": "python",
   "nbconvert_exporter": "python",
   "pygments_lexer": "ipython3",
   "version": "3.8.8"
  }
 },
 "nbformat": 4,
 "nbformat_minor": 5
}
