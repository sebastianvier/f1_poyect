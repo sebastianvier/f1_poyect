{
 "cells": [
  {
   "cell_type": "code",
   "execution_count": 1,
   "id": "15d48620",
   "metadata": {},
   "outputs": [],
   "source": [
    "## import modules\n",
    "import urllib.request as urlr\n",
    "import numpy as np\n",
    "import pandas as pd\n",
    "from bs4 import BeautifulSoup\n",
    "from datetime import datetime\n",
    "\n",
    "import bs4_functions "
   ]
  },
  {
   "cell_type": "markdown",
   "id": "89100a33",
   "metadata": {},
   "source": [
    "### Step 1: Get Races Urls"
   ]
  },
  {
   "cell_type": "code",
   "execution_count": 17,
   "id": "b2961026",
   "metadata": {},
   "outputs": [],
   "source": [
    "url = urlr.urlopen(\"https://www.racing-statistics.com/en/seasons\")\n",
    "soup = BeautifulSoup(url)\n",
    "rows = soup.find_all('table')[0].find_all('tr')[52:]\n",
    "# The 2001 season is the 52nd season. So we create an array called rows from there on.\n",
    "\n",
    "            \n",
    "season_links = [i for i in bs4_functions.season_link_gen(rows)] # Array of array with [season_name, season_url]"
   ]
  },
  {
   "cell_type": "code",
   "execution_count": 40,
   "id": "189ad810",
   "metadata": {
    "scrolled": true
   },
   "outputs": [
    {
     "name": "stdout",
     "output_type": "stream",
     "text": [
      "https://www.racing-statistics.com/en/seasons/2001\n",
      "https://www.racing-statistics.com/en/seasons/2002\n",
      "https://www.racing-statistics.com/en/seasons/2003\n",
      "https://www.racing-statistics.com/en/seasons/2004\n",
      "https://www.racing-statistics.com/en/seasons/2005\n",
      "https://www.racing-statistics.com/en/seasons/2006\n",
      "https://www.racing-statistics.com/en/seasons/2007\n",
      "https://www.racing-statistics.com/en/seasons/2008\n",
      "https://www.racing-statistics.com/en/seasons/2009\n",
      "https://www.racing-statistics.com/en/seasons/2010\n",
      "https://www.racing-statistics.com/en/seasons/2011\n",
      "https://www.racing-statistics.com/en/seasons/2012\n",
      "https://www.racing-statistics.com/en/seasons/2013\n",
      "https://www.racing-statistics.com/en/seasons/2014\n",
      "https://www.racing-statistics.com/en/seasons/2015\n",
      "https://www.racing-statistics.com/en/seasons/2016\n",
      "https://www.racing-statistics.com/en/seasons/2017\n",
      "https://www.racing-statistics.com/en/seasons/2018\n",
      "https://www.racing-statistics.com/en/seasons/2019\n",
      "https://www.racing-statistics.com/en/seasons/2020\n",
      "https://www.racing-statistics.com/en/seasons/2021\n"
     ]
    }
   ],
   "source": [
    "## table_number 1, cell position 2\n",
    "races_urls = []\n",
    "for season in season_links:\n",
    "    url = season[1]\n",
    "    print(url)\n",
    "    table_number = 1\n",
    "    cell_position = 2\n",
    "    for i in  bs4_functions.get_links_from_table(url, table_number, cell_position, v_list=[], year_flag=True,s_name=False):\n",
    "        races_urls.append(i)"
   ]
  },
  {
   "cell_type": "markdown",
   "id": "6fdf78a6",
   "metadata": {},
   "source": [
    "### Step 2: Get the arrays"
   ]
  },
  {
   "cell_type": "code",
   "execution_count": null,
   "id": "7d6cd5ee",
   "metadata": {},
   "outputs": [],
   "source": [
    "## Get the appendendable Arrays\n",
    "def array_generator(init, end, table_number):\n",
    "    for url_array in races_urls[init: end]:\n",
    "        ## each element in races_urls is an array(it al)\n",
    "        yield np.array(bs4_functions.get_results(url_array[1], result_type='race',table_number=table_number))"
   ]
  },
  {
   "cell_type": "markdown",
   "id": "51f8ac6a",
   "metadata": {},
   "source": [
    "The init and end is because not always are the **result tables** found in the **second position**"
   ]
  },
  {
   "cell_type": "markdown",
   "id": "f113523d",
   "metadata": {},
   "source": [
    "array_1 = np.concatenate([i for i in array_generator(0,60,2)])"
   ]
  },
  {
   "cell_type": "markdown",
   "id": "12a923e5",
   "metadata": {},
   "source": [
    "array_2 = np.concatenate([i for i in array_generator(60,68,2)])"
   ]
  },
  {
   "cell_type": "markdown",
   "id": "04066385",
   "metadata": {},
   "source": [
    "end = len(races_urls) + 1\n",
    "array_3 = np.concatenate([i for i in array_generator(68, end,3)])"
   ]
  },
  {
   "cell_type": "code",
   "execution_count": 54,
   "id": "b588f2b6",
   "metadata": {
    "scrolled": true
   },
   "outputs": [
    {
     "data": {
      "text/html": [
       "<div>\n",
       "<style scoped>\n",
       "    .dataframe tbody tr th:only-of-type {\n",
       "        vertical-align: middle;\n",
       "    }\n",
       "\n",
       "    .dataframe tbody tr th {\n",
       "        vertical-align: top;\n",
       "    }\n",
       "\n",
       "    .dataframe thead th {\n",
       "        text-align: right;\n",
       "    }\n",
       "</style>\n",
       "<table border=\"1\" class=\"dataframe\">\n",
       "  <thead>\n",
       "    <tr style=\"text-align: right;\">\n",
       "      <th></th>\n",
       "      <th>0</th>\n",
       "      <th>1</th>\n",
       "      <th>2</th>\n",
       "      <th>3</th>\n",
       "      <th>4</th>\n",
       "      <th>5</th>\n",
       "      <th>6</th>\n",
       "    </tr>\n",
       "  </thead>\n",
       "  <tbody>\n",
       "    <tr>\n",
       "      <th>0</th>\n",
       "      <td>1</td>\n",
       "      <td>1:24:17.336</td>\n",
       "      <td>57</td>\n",
       "      <td>10</td>\n",
       "      <td>Giancarlo Fisichella</td>\n",
       "      <td>Renault</td>\n",
       "      <td>2005 Australian Grand Prix</td>\n",
       "    </tr>\n",
       "    <tr>\n",
       "      <th>1</th>\n",
       "      <td>2</td>\n",
       "      <td>+5.553</td>\n",
       "      <td>57</td>\n",
       "      <td>8</td>\n",
       "      <td>Rubens Barrichello</td>\n",
       "      <td>Ferrari</td>\n",
       "      <td>2005 Australian Grand Prix</td>\n",
       "    </tr>\n",
       "    <tr>\n",
       "      <th>2</th>\n",
       "      <td>3</td>\n",
       "      <td>+6.712</td>\n",
       "      <td>57</td>\n",
       "      <td>6</td>\n",
       "      <td>Fernando Alonso</td>\n",
       "      <td>Renault</td>\n",
       "      <td>2005 Australian Grand Prix</td>\n",
       "    </tr>\n",
       "    <tr>\n",
       "      <th>3</th>\n",
       "      <td>4</td>\n",
       "      <td>+16.131</td>\n",
       "      <td>57</td>\n",
       "      <td>5</td>\n",
       "      <td>David Coulthard</td>\n",
       "      <td>Red Bull</td>\n",
       "      <td>2005 Australian Grand Prix</td>\n",
       "    </tr>\n",
       "    <tr>\n",
       "      <th>4</th>\n",
       "      <td>5</td>\n",
       "      <td>+16.908</td>\n",
       "      <td>57</td>\n",
       "      <td>4</td>\n",
       "      <td>Mark Webber</td>\n",
       "      <td>Williams</td>\n",
       "      <td>2005 Australian Grand Prix</td>\n",
       "    </tr>\n",
       "    <tr>\n",
       "      <th>...</th>\n",
       "      <td>...</td>\n",
       "      <td>...</td>\n",
       "      <td>...</td>\n",
       "      <td>...</td>\n",
       "      <td>...</td>\n",
       "      <td>...</td>\n",
       "      <td>...</td>\n",
       "    </tr>\n",
       "    <tr>\n",
       "      <th>6925</th>\n",
       "      <td>15</td>\n",
       "      <td>Engine</td>\n",
       "      <td>55</td>\n",
       "      <td>0</td>\n",
       "      <td>Sergio Pérez</td>\n",
       "      <td>Red Bull</td>\n",
       "      <td>2021 Abu Dhabi Grand Prix</td>\n",
       "    </tr>\n",
       "    <tr>\n",
       "      <th>6926</th>\n",
       "      <td></td>\n",
       "      <td>Accident</td>\n",
       "      <td>50</td>\n",
       "      <td>0</td>\n",
       "      <td>Nicholas Latifi</td>\n",
       "      <td>Williams</td>\n",
       "      <td>2021 Abu Dhabi Grand Prix</td>\n",
       "    </tr>\n",
       "    <tr>\n",
       "      <th>6927</th>\n",
       "      <td></td>\n",
       "      <td>Gearbox</td>\n",
       "      <td>33</td>\n",
       "      <td>0</td>\n",
       "      <td>Antonio Giovinazzi</td>\n",
       "      <td>Alfa Romeo</td>\n",
       "      <td>2021 Abu Dhabi Grand Prix</td>\n",
       "    </tr>\n",
       "    <tr>\n",
       "      <th>6928</th>\n",
       "      <td></td>\n",
       "      <td>Gearbox</td>\n",
       "      <td>26</td>\n",
       "      <td>0</td>\n",
       "      <td>George Russell</td>\n",
       "      <td>Williams</td>\n",
       "      <td>2021 Abu Dhabi Grand Prix</td>\n",
       "    </tr>\n",
       "    <tr>\n",
       "      <th>6929</th>\n",
       "      <td></td>\n",
       "      <td>Brakes</td>\n",
       "      <td>25</td>\n",
       "      <td>0</td>\n",
       "      <td>Kimi Räikkönen</td>\n",
       "      <td>Alfa Romeo</td>\n",
       "      <td>2021 Abu Dhabi Grand Prix</td>\n",
       "    </tr>\n",
       "  </tbody>\n",
       "</table>\n",
       "<p>6930 rows × 7 columns</p>\n",
       "</div>"
      ],
      "text/plain": [
       "       0            1   2   3                     4           5  \\\n",
       "0      1  1:24:17.336  57  10  Giancarlo Fisichella     Renault   \n",
       "1      2       +5.553  57   8    Rubens Barrichello     Ferrari   \n",
       "2      3       +6.712  57   6       Fernando Alonso     Renault   \n",
       "3      4      +16.131  57   5       David Coulthard    Red Bull   \n",
       "4      5      +16.908  57   4           Mark Webber    Williams   \n",
       "...   ..          ...  ..  ..                   ...         ...   \n",
       "6925  15       Engine  55   0          Sergio Pérez    Red Bull   \n",
       "6926         Accident  50   0       Nicholas Latifi    Williams   \n",
       "6927          Gearbox  33   0    Antonio Giovinazzi  Alfa Romeo   \n",
       "6928          Gearbox  26   0        George Russell    Williams   \n",
       "6929           Brakes  25   0        Kimi Räikkönen  Alfa Romeo   \n",
       "\n",
       "                               6  \n",
       "0     2005 Australian Grand Prix  \n",
       "1     2005 Australian Grand Prix  \n",
       "2     2005 Australian Grand Prix  \n",
       "3     2005 Australian Grand Prix  \n",
       "4     2005 Australian Grand Prix  \n",
       "...                          ...  \n",
       "6925   2021 Abu Dhabi Grand Prix  \n",
       "6926   2021 Abu Dhabi Grand Prix  \n",
       "6927   2021 Abu Dhabi Grand Prix  \n",
       "6928   2021 Abu Dhabi Grand Prix  \n",
       "6929   2021 Abu Dhabi Grand Prix  \n",
       "\n",
       "[6930 rows x 7 columns]"
      ]
     },
     "execution_count": 54,
     "metadata": {},
     "output_type": "execute_result"
    }
   ],
   "source": [
    "pd.DataFrame(array_3)"
   ]
  },
  {
   "cell_type": "code",
   "execution_count": 56,
   "id": "efe777c2",
   "metadata": {},
   "outputs": [],
   "source": [
    "full_arrays = np.concatenate([array_1,array_2, array_3])"
   ]
  },
  {
   "cell_type": "code",
   "execution_count": 58,
   "id": "ca400274",
   "metadata": {},
   "outputs": [],
   "source": [
    "results = pd.DataFrame(full_arrays)"
   ]
  },
  {
   "cell_type": "code",
   "execution_count": 59,
   "id": "bf38c241",
   "metadata": {},
   "outputs": [],
   "source": [
    "results.to_csv('f1_results.csv', index=False)"
   ]
  },
  {
   "cell_type": "markdown",
   "id": "5eec2a8d",
   "metadata": {},
   "source": [
    "### -------"
   ]
  },
  {
   "cell_type": "code",
   "execution_count": 5,
   "id": "06d57e8a",
   "metadata": {},
   "outputs": [],
   "source": [
    "data = pd.read_csv('data/f1_results.csv')"
   ]
  },
  {
   "cell_type": "code",
   "execution_count": 86,
   "id": "054cc524",
   "metadata": {},
   "outputs": [
    {
     "data": {
      "text/html": [
       "<div>\n",
       "<style scoped>\n",
       "    .dataframe tbody tr th:only-of-type {\n",
       "        vertical-align: middle;\n",
       "    }\n",
       "\n",
       "    .dataframe tbody tr th {\n",
       "        vertical-align: top;\n",
       "    }\n",
       "\n",
       "    .dataframe thead th {\n",
       "        text-align: right;\n",
       "    }\n",
       "</style>\n",
       "<table border=\"1\" class=\"dataframe\">\n",
       "  <thead>\n",
       "    <tr style=\"text-align: right;\">\n",
       "      <th></th>\n",
       "      <th>0</th>\n",
       "      <th>1</th>\n",
       "      <th>2</th>\n",
       "      <th>3</th>\n",
       "      <th>4</th>\n",
       "      <th>5</th>\n",
       "      <th>6</th>\n",
       "    </tr>\n",
       "  </thead>\n",
       "  <tbody>\n",
       "    <tr>\n",
       "      <th>0</th>\n",
       "      <td>1.0</td>\n",
       "      <td>1:38:26.533</td>\n",
       "      <td>58</td>\n",
       "      <td>10.0</td>\n",
       "      <td>Michael Schumacher</td>\n",
       "      <td>Ferrari</td>\n",
       "      <td>2001 Australian Grand Prix</td>\n",
       "    </tr>\n",
       "    <tr>\n",
       "      <th>1</th>\n",
       "      <td>2.0</td>\n",
       "      <td>+1.717</td>\n",
       "      <td>58</td>\n",
       "      <td>6.0</td>\n",
       "      <td>David Coulthard</td>\n",
       "      <td>McLaren</td>\n",
       "      <td>2001 Australian Grand Prix</td>\n",
       "    </tr>\n",
       "    <tr>\n",
       "      <th>2</th>\n",
       "      <td>3.0</td>\n",
       "      <td>+33.491</td>\n",
       "      <td>58</td>\n",
       "      <td>4.0</td>\n",
       "      <td>Rubens Barrichello</td>\n",
       "      <td>Ferrari</td>\n",
       "      <td>2001 Australian Grand Prix</td>\n",
       "    </tr>\n",
       "    <tr>\n",
       "      <th>3</th>\n",
       "      <td>4.0</td>\n",
       "      <td>+1:11.479</td>\n",
       "      <td>58</td>\n",
       "      <td>3.0</td>\n",
       "      <td>Nick Heidfeld</td>\n",
       "      <td>Sauber</td>\n",
       "      <td>2001 Australian Grand Prix</td>\n",
       "    </tr>\n",
       "    <tr>\n",
       "      <th>4</th>\n",
       "      <td>5.0</td>\n",
       "      <td>+1:12.807</td>\n",
       "      <td>58</td>\n",
       "      <td>2.0</td>\n",
       "      <td>Heinz-Harald Frentzen</td>\n",
       "      <td>Jordan</td>\n",
       "      <td>2001 Australian Grand Prix</td>\n",
       "    </tr>\n",
       "    <tr>\n",
       "      <th>...</th>\n",
       "      <td>...</td>\n",
       "      <td>...</td>\n",
       "      <td>...</td>\n",
       "      <td>...</td>\n",
       "      <td>...</td>\n",
       "      <td>...</td>\n",
       "      <td>...</td>\n",
       "    </tr>\n",
       "    <tr>\n",
       "      <th>7821</th>\n",
       "      <td>15.0</td>\n",
       "      <td>Engine</td>\n",
       "      <td>55</td>\n",
       "      <td>0.0</td>\n",
       "      <td>Sergio Pérez</td>\n",
       "      <td>Red Bull</td>\n",
       "      <td>2021 Abu Dhabi Grand Prix</td>\n",
       "    </tr>\n",
       "    <tr>\n",
       "      <th>7822</th>\n",
       "      <td>NaN</td>\n",
       "      <td>Accident</td>\n",
       "      <td>50</td>\n",
       "      <td>0.0</td>\n",
       "      <td>Nicholas Latifi</td>\n",
       "      <td>Williams</td>\n",
       "      <td>2021 Abu Dhabi Grand Prix</td>\n",
       "    </tr>\n",
       "    <tr>\n",
       "      <th>7823</th>\n",
       "      <td>NaN</td>\n",
       "      <td>Gearbox</td>\n",
       "      <td>33</td>\n",
       "      <td>0.0</td>\n",
       "      <td>Antonio Giovinazzi</td>\n",
       "      <td>Alfa Romeo</td>\n",
       "      <td>2021 Abu Dhabi Grand Prix</td>\n",
       "    </tr>\n",
       "    <tr>\n",
       "      <th>7824</th>\n",
       "      <td>NaN</td>\n",
       "      <td>Gearbox</td>\n",
       "      <td>26</td>\n",
       "      <td>0.0</td>\n",
       "      <td>George Russell</td>\n",
       "      <td>Williams</td>\n",
       "      <td>2021 Abu Dhabi Grand Prix</td>\n",
       "    </tr>\n",
       "    <tr>\n",
       "      <th>7825</th>\n",
       "      <td>NaN</td>\n",
       "      <td>Brakes</td>\n",
       "      <td>25</td>\n",
       "      <td>0.0</td>\n",
       "      <td>Kimi Räikkönen</td>\n",
       "      <td>Alfa Romeo</td>\n",
       "      <td>2021 Abu Dhabi Grand Prix</td>\n",
       "    </tr>\n",
       "  </tbody>\n",
       "</table>\n",
       "<p>7826 rows × 7 columns</p>\n",
       "</div>"
      ],
      "text/plain": [
       "         0            1   2     3                      4           5  \\\n",
       "0      1.0  1:38:26.533  58  10.0     Michael Schumacher     Ferrari   \n",
       "1      2.0       +1.717  58   6.0        David Coulthard     McLaren   \n",
       "2      3.0      +33.491  58   4.0     Rubens Barrichello     Ferrari   \n",
       "3      4.0    +1:11.479  58   3.0          Nick Heidfeld      Sauber   \n",
       "4      5.0    +1:12.807  58   2.0  Heinz-Harald Frentzen      Jordan   \n",
       "...    ...          ...  ..   ...                    ...         ...   \n",
       "7821  15.0       Engine  55   0.0           Sergio Pérez    Red Bull   \n",
       "7822   NaN     Accident  50   0.0        Nicholas Latifi    Williams   \n",
       "7823   NaN      Gearbox  33   0.0     Antonio Giovinazzi  Alfa Romeo   \n",
       "7824   NaN      Gearbox  26   0.0         George Russell    Williams   \n",
       "7825   NaN       Brakes  25   0.0         Kimi Räikkönen  Alfa Romeo   \n",
       "\n",
       "                               6  \n",
       "0     2001 Australian Grand Prix  \n",
       "1     2001 Australian Grand Prix  \n",
       "2     2001 Australian Grand Prix  \n",
       "3     2001 Australian Grand Prix  \n",
       "4     2001 Australian Grand Prix  \n",
       "...                          ...  \n",
       "7821   2021 Abu Dhabi Grand Prix  \n",
       "7822   2021 Abu Dhabi Grand Prix  \n",
       "7823   2021 Abu Dhabi Grand Prix  \n",
       "7824   2021 Abu Dhabi Grand Prix  \n",
       "7825   2021 Abu Dhabi Grand Prix  \n",
       "\n",
       "[7826 rows x 7 columns]"
      ]
     },
     "execution_count": 86,
     "metadata": {},
     "output_type": "execute_result"
    }
   ],
   "source": [
    "data"
   ]
  },
  {
   "cell_type": "code",
   "execution_count": 42,
   "id": "05d18921",
   "metadata": {},
   "outputs": [
    {
     "data": {
      "text/plain": [
       "0       10.0\n",
       "1        6.0\n",
       "2        4.0\n",
       "3        3.0\n",
       "4        2.0\n",
       "        ... \n",
       "7821     0.0\n",
       "7822     0.0\n",
       "7823     0.0\n",
       "7824     0.0\n",
       "7825     0.0\n",
       "Name: 3, Length: 7826, dtype: float64"
      ]
     },
     "execution_count": 42,
     "metadata": {},
     "output_type": "execute_result"
    }
   ],
   "source": [
    "data.loc[:,'3']"
   ]
  },
  {
   "cell_type": "code",
   "execution_count": 78,
   "id": "06962b61",
   "metadata": {},
   "outputs": [],
   "source": [
    "last_name = data.loc[:,'4'].apply(lambda x: x.split()[-1])\n",
    "first_name = data.loc[:,'4'].apply(lambda x: ''.join(x.split()[:-1]))"
   ]
  },
  {
   "cell_type": "code",
   "execution_count": 76,
   "id": "d62e1c5f",
   "metadata": {},
   "outputs": [
    {
     "ename": "AttributeError",
     "evalue": "'StringMethods' object has no attribute 'str'",
     "output_type": "error",
     "traceback": [
      "\u001b[0;31m---------------------------------------------------------------------------\u001b[0m",
      "\u001b[0;31mAttributeError\u001b[0m                            Traceback (most recent call last)",
      "\u001b[0;32m<ipython-input-76-5b104d12f87a>\u001b[0m in \u001b[0;36m<module>\u001b[0;34m\u001b[0m\n\u001b[0;32m----> 1\u001b[0;31m \u001b[0mfirst_name\u001b[0m\u001b[0;34m[\u001b[0m\u001b[0mfirst_name\u001b[0m\u001b[0;34m.\u001b[0m\u001b[0mstr\u001b[0m\u001b[0;34m.\u001b[0m\u001b[0mcontains\u001b[0m\u001b[0;34m(\u001b[0m\u001b[0;34m'Juan'\u001b[0m\u001b[0;34m)\u001b[0m\u001b[0;34m]\u001b[0m\u001b[0;34m\u001b[0m\u001b[0;34m\u001b[0m\u001b[0m\n\u001b[0m",
      "\u001b[0;31mAttributeError\u001b[0m: 'StringMethods' object has no attribute 'str'"
     ]
    }
   ],
   "source": [
    "first_name[first_name.str.contains('Juan')]"
   ]
  },
  {
   "cell_type": "code",
   "execution_count": 85,
   "id": "8e2bf36c",
   "metadata": {},
   "outputs": [
    {
     "data": {
      "text/plain": [
       "0            Michael\n",
       "1              David\n",
       "2             Rubens\n",
       "3               Nick\n",
       "4       Heinz-Harald\n",
       "            ...     \n",
       "7821          Sergio\n",
       "7822        Nicholas\n",
       "7823         Antonio\n",
       "7824          George\n",
       "7825            Kimi\n",
       "Name: 4, Length: 7826, dtype: object"
      ]
     },
     "execution_count": 85,
     "metadata": {},
     "output_type": "execute_result"
    }
   ],
   "source": [
    "first_name.str.join('')"
   ]
  }
 ],
 "metadata": {
  "kernelspec": {
   "display_name": "Python 3",
   "language": "python",
   "name": "python3"
  },
  "language_info": {
   "codemirror_mode": {
    "name": "ipython",
    "version": 3
   },
   "file_extension": ".py",
   "mimetype": "text/x-python",
   "name": "python",
   "nbconvert_exporter": "python",
   "pygments_lexer": "ipython3",
   "version": "3.8.8"
  }
 },
 "nbformat": 4,
 "nbformat_minor": 5
}
